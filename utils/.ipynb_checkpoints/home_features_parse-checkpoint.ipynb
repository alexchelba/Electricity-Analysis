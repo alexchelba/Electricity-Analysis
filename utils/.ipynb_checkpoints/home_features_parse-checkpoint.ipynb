{
 "cells": [
  {
   "cell_type": "code",
   "execution_count": null,
   "id": "cb2b077a",
   "metadata": {},
   "outputs": [],
   "source": [
    "import tsfresh"
   ]
  },
  {
   "cell_type": "code",
   "execution_count": 2,
   "id": "dd68e484",
   "metadata": {},
   "outputs": [],
   "source": [
    "import pandas as pd\n",
    "import numpy as np\n",
    "import os\n",
    "import matplotlib.pyplot as plt\n",
    "import math\n",
    "import sys\n",
    "import warnings\n",
    "sys.path.insert(1, '../')\n",
    "from API.IdealDataInterface import IdealDataInterface"
   ]
  },
  {
   "cell_type": "code",
   "execution_count": 37,
   "id": "38438d32",
   "metadata": {},
   "outputs": [],
   "source": [
    "class featureParser:\n",
    "    def __init__(self, homeList):\n",
    "\n",
    "        # Make sure the warning is issued every time the user instantiates the class\n",
    "        warnings.filterwarnings(\"always\", category=UserWarning,\n",
    "                                module='featureParser')\n",
    "\n",
    "        # This will be used to search for the reading files in the directory.\n",
    "        self.homeList = homeList\n",
    "        \n",
    "        if len(self.homeList) == 0:\n",
    "            warnings.warn('Not enough data to make a prediction.')\n",
    "\n",
    "        self.init_access()\n",
    "        self.homeData = self._combine(homeList)\n",
    "    \n",
    "    def init_access(self):\n",
    "        folder_path = 'D:\\\\MInf_data\\\\sensordata'\n",
    "        room_folder_path = 'D:\\\\MInf_data\\\\room_sensordata'\n",
    "        self.ideal = IdealDataInterface(folder_path)\n",
    "        self.room_ideal = IdealDataInterface(room_folder_path)\n",
    "    \n",
    "    def _combine(self, homeList):\n",
    "        final_df = self._parse(homeList[0])\n",
    "        final_df = final_df.resample('30min').mean()\n",
    "        print(final_df[final_df.index >= '2016-12-16'].head())\n",
    "        for home in homeList[1:]:\n",
    "            df = self._parse(home)\n",
    "            df = df.resample('30min').mean()\n",
    "            print(df[df.index >= '2016-12-16'].head())\n",
    "            # merge final_df and df\n",
    "            final_df = pd.concat([final_df, df]).groupby(level=0).mean()\n",
    "        return final_df\n",
    "            \n",
    "    def _parse(self, home):\n",
    "        home_data = self.ideal.get(homeid = home, subtype = 'electric-combined')\n",
    "        home_df = home_data[0][\"readings\"]\n",
    "        return home_df"
   ]
  },
  {
   "cell_type": "code",
   "execution_count": 38,
   "id": "d291eddc",
   "metadata": {},
   "outputs": [
    {
     "name": "stdout",
     "output_type": "stream",
     "text": [
      "Found entries for 1592 sensor readings.\n",
      "Found entries for 4824 sensor readings.\n",
      "time\n",
      "2016-12-16 00:00:00    196.937152\n",
      "2016-12-16 00:30:00    174.622822\n",
      "2016-12-16 01:00:00    178.206916\n",
      "2016-12-16 01:30:00    190.752922\n",
      "2016-12-16 02:00:00    180.364444\n",
      "Freq: 30T, Name: electric-combined, dtype: float64\n",
      "time\n",
      "2016-12-16 00:00:00    115.285099\n",
      "2016-12-16 00:30:00    125.965970\n",
      "2016-12-16 01:00:00    139.976731\n",
      "2016-12-16 01:30:00    116.337995\n",
      "2016-12-16 02:00:00    136.383964\n",
      "Freq: 30T, Name: electric-combined, dtype: float64\n"
     ]
    }
   ],
   "source": [
    "featParse = featureParser([64, 73])\n",
    "\n"
   ]
  },
  {
   "cell_type": "code",
   "execution_count": 39,
   "id": "4772f3ab",
   "metadata": {},
   "outputs": [
    {
     "name": "stdout",
     "output_type": "stream",
     "text": [
      "time\n",
      "2016-12-16 00:00:00    156.111125\n",
      "2016-12-16 00:30:00    150.294396\n",
      "2016-12-16 01:00:00    159.091823\n",
      "2016-12-16 01:30:00    153.545458\n",
      "2016-12-16 02:00:00    158.374204\n",
      "Name: electric-combined, dtype: float64\n"
     ]
    }
   ],
   "source": [
    "ff = featParse.homeData[featParse.homeData.index >= '2016-12-16']\n",
    "print(ff.head())"
   ]
  },
  {
   "cell_type": "code",
   "execution_count": null,
   "id": "cceb8b1c",
   "metadata": {},
   "outputs": [],
   "source": [
    "#ideal.view(homeid=105, subtype='electric-combined')\n",
    "\n",
    "#ideal.view(homeid=105, subtype='mains')\n",
    "\n",
    "data = ideal.get(sensorid=['5093c5097', 5276])\n",
    "#len(data)\n",
    "\n",
    "#data[0].keys()\n",
    "\n",
    "#data[0]['subtype']\n",
    "\n",
    "assert data[0]['subtype'] == 'electric-combined'\n",
    "ts_hot_water = data[0]['readings']\n",
    "ts_sink = data[0]['readings']\n",
    "\n",
    "ts_hot_water = ts_hot_water.resample('5min').mean()\n",
    "ts_sink = ts_sink.resample('5min').mean()\n",
    "\n",
    "ts_combined = pd.concat([ts_hot_water, ts_sink], axis=1)\n",
    "ts_combined /= 10\n",
    "#ts_combined.head()\n",
    "\n",
    "fig, ax = plt.subplots(figsize=(12,5.5))\n",
    "idx = (ts_combined.index >= '2017-05-19') & (ts_combined.index < '2017-05-20')\n",
    "ts_combined[idx].plot(ax=ax)"
   ]
  },
  {
   "cell_type": "code",
   "execution_count": null,
   "id": "412a3537",
   "metadata": {},
   "outputs": [],
   "source": []
  }
 ],
 "metadata": {
  "kernelspec": {
   "display_name": "Python 3 (ipykernel)",
   "language": "python",
   "name": "python3"
  },
  "language_info": {
   "codemirror_mode": {
    "name": "ipython",
    "version": 3
   },
   "file_extension": ".py",
   "mimetype": "text/x-python",
   "name": "python",
   "nbconvert_exporter": "python",
   "pygments_lexer": "ipython3",
   "version": "3.7.11"
  }
 },
 "nbformat": 4,
 "nbformat_minor": 5
}
