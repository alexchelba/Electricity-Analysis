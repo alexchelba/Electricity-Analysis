{
 "cells": [
  {
   "cell_type": "code",
   "execution_count": null,
   "metadata": {},
   "outputs": [],
   "source": [
    "import pandas as pd\n",
    "import numpy as np\n",
    "import os\n",
    "import matplotlib.pyplot as plt\n",
    "import math\n",
    "import sys\n",
    "import warnings\n",
    "sys.path.insert(1, '../')\n",
    "from API.IdealMetadataInterface import IdealMetadataInterface"
   ]
  },
  {
   "cell_type": "code",
   "execution_count": null,
   "metadata": {},
   "outputs": [],
   "source": [
    "class categoriesParser:\n",
    "    def __init__(self, htype = None, nrppl = None, buildEra = None):\n",
    "\n",
    "        # Make sure the warning is issued every time the user instantiates the class\n",
    "        warnings.filterwarnings(\"always\", category=UserWarning,\n",
    "                                module='categoriesParser')\n",
    "\n",
    "        # This will be used to search for the reading files in the directory.\n",
    "        self.htype = htype\n",
    "        self.nrppl = nrppl\n",
    "        self.buildEra = buildEra\n",
    "        self.init_dfs()\n",
    "    \n",
    "    def init_dfs(self):\n",
    "        meta_folder_path = 'D:\\\\MInf_data\\\\metadata'\n",
    "        self.meta_ideal = IdealMetadataInterface(meta_folder_path)\n",
    "        self.homes = self.meta_ideal._metafile('home')['home']\n",
    "        self.rooms = self.meta_ideal._metafile('room')['room']\n",
    "        self.appliances = self.meta_ideal._metafile('appliance')['appliance']\n",
    "        self.sensorboxes = self.meta_ideal._metafile('sensorbox')['sensorbox']\n",
    "        self.sensors = self.meta_ideal._metafile('sensor')['sensor']\n",
    "        self.people = self.meta_ideal._metafile('person')['person']\n",
    "        self.locations = self.meta_ideal._metafile('location')['location']\n",
    "        self.weatherfeeds = self.meta_ideal._metafile('weatherfeed')['weatherfeed']\n",
    "    \n",
    "    def getList(self):\n",
    "        df = self.homes.copy()\n",
    "        if self.htype is not None:\n",
    "            if self.htype == 'flat':\n",
    "                df = df[df.hometype == 'flat']\n",
    "            else:\n",
    "                df = df[df.hometype == 'house_or_bungalow']\n",
    "        if self.buildEra is not None:\n",
    "            if self.htype == 'flat':\n",
    "                if self.buildEra == 'Before 1900':\n",
    "                    df = df[(df.build_era=='Before 1850') | (df.build_era=='1850-1899')]\n",
    "                else:\n",
    "                    df = df[(df.build_era=='2002 or later') | (df.build_era=='1965-1980')\n",
    "                            | (df.build_era=='1981-1990') | (df.build_era=='1991-1995')\n",
    "                            | (df.build_era=='1996-2001') | (df.build_era=='1900-1918')\n",
    "                            | (df.build_era=='1919-1930') | (df.build_era=='1931-1944') | (df.build_era=='1945-1964')]\n",
    "            elif self.htype == 'house':\n",
    "                if self.buildEra == 'After 1965':\n",
    "                    df = df[(df.build_era=='2002 or later') | (df.build_era=='1965-1980')\n",
    "                            | (df.build_era=='1981-1990') | (df.build_era=='1991-1995')\n",
    "                            | (df.build_era=='1996-2001')]\n",
    "                else:\n",
    "                    df = df[(df.build_era=='Before 1850') | (df.build_era=='1850-1899')\n",
    "                            | (df.build_era=='1900-1918') | (df.build_era=='1919-1930')\n",
    "                            | (df.build_era=='1931-1944') | (df.build_era=='1945-1964')]\n",
    "        if self.nrppl is not None:\n",
    "            if self.nrppl == '2 or less people':\n",
    "                df = df[(df.residents==1) | (df.residents==2)]\n",
    "            elif self.nrppl == '3 or more people':\n",
    "                df = df[df.residents>=3]\n",
    "        lst = []\n",
    "        for home in df.homeid:\n",
    "            lst.append(str(home))\n",
    "        return lst\n",
    "        "
   ]
  },
  {
   "cell_type": "code",
   "execution_count": null,
   "metadata": {},
   "outputs": [],
   "source": []
  },
  {
   "cell_type": "code",
   "execution_count": null,
   "metadata": {},
   "outputs": [],
   "source": []
  }
 ],
 "metadata": {
  "kernelspec": {
   "display_name": "Python 3",
   "language": "python",
   "name": "python3"
  },
  "language_info": {
   "codemirror_mode": {
    "name": "ipython",
    "version": 3
   },
   "file_extension": ".py",
   "mimetype": "text/x-python",
   "name": "python",
   "nbconvert_exporter": "python",
   "pygments_lexer": "ipython3",
   "version": "3.7.3"
  }
 },
 "nbformat": 4,
 "nbformat_minor": 5
}
