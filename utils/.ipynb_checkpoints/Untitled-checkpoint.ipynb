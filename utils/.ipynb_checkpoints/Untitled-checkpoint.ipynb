{
 "cells": [
  {
   "cell_type": "code",
   "execution_count": 1,
   "id": "c51173e4",
   "metadata": {},
   "outputs": [],
   "source": [
    "import pandas as pd\n",
    "import datetime\n",
    "import numpy as np\n",
    "import os\n",
    "import matplotlib.pyplot as plt\n",
    "import math\n",
    "import sys\n",
    "import seaborn as sns\n",
    "import datetime\n",
    "from home_features_parse import featureParser\n",
    "sys.path.insert(1, '../')\n",
    "from API.IdealDataInterface import IdealDataInterface\n",
    "from API.IdealMetadataInterface import IdealMetadataInterface"
   ]
  },
  {
   "cell_type": "code",
   "execution_count": null,
   "id": "5dba1a21",
   "metadata": {},
   "outputs": [],
   "source": [
    "meta_folder_path = 'D:\\\\MInf_data\\\\metadata'\n",
    "meta_ideal = IdealMetadataInterface(meta_folder_path)"
   ]
  },
  {
   "cell_type": "code",
   "execution_count": null,
   "id": "ffb50e8b",
   "metadata": {},
   "outputs": [],
   "source": [
    "folder_path = 'D:\\\\MInf_data\\\\sensordata'\n",
    "ideal = IdealDataInterface(folder_path)"
   ]
  },
  {
   "cell_type": "code",
   "execution_count": null,
   "id": "f11e0dab",
   "metadata": {},
   "outputs": [],
   "source": [
    "def createDF(home_list):\n",
    "    df_list = []\n",
    "    for idx,home_id in enumerate(home_list):\n",
    "        home_data = ideal.get(homeid = home_id, category = 'electric-mains')\n",
    "        ds = home_data[0]['readings']\n",
    "        df_resample = ds.resample('30T').mean()\n",
    "        df_count = ds.resample('30T').count()\n",
    "        df_resample.loc[df_count < 900] = np.nan\n",
    "        df = df_resample.to_frame()\n",
    "        name = 'electric-combined_'+str(idx)\n",
    "        df.rename(columns={'electric-combined':name})\n",
    "        df_list.append(df)\n",
    "    df_all = pd.concat(df_list, axis=1)\n",
    "    return df_all"
   ]
  },
  {
   "cell_type": "code",
   "execution_count": null,
   "id": "e30a650b",
   "metadata": {},
   "outputs": [],
   "source": [
    "# calculate 95% confidence interval\n",
    "def calculate95ConfInt(df_all):\n",
    "    df = pd.DataFrame()\n",
    "    df['avg'] = df_all.mean(axis=1)\n",
    "    df['std'] = df_all.std(axis=1)\n",
    "    df['avg'].interpolate(\"linear\", order=3, inplace=True)\n",
    "    df['std'].interpolate(\"nearest\", inplace=True)\n",
    "    df['min_val'] = np.where((df['avg'] - df['std']) < 0, 0,(df['avg'] - df['std']))\n",
    "    df['max_val'] = df['avg'] + df['std']\n",
    "    return df"
   ]
  },
  {
   "cell_type": "code",
   "execution_count": null,
   "id": "d1646809",
   "metadata": {},
   "outputs": [],
   "source": [
    "def plotAvgwithConfInt(df, htype, nrppl, bldera):\n",
    "    #sns.lineplot(x = df.index, y = \"avg\", data = df)\n",
    "    plt.plot(df.index, df.avg, c='purple', label = \"average consumption\")\n",
    "    plt.fill_between(df.index, df.min_val, df.max_val, color='blue', alpha=.2, label = \"Standard Deviation\")\n",
    "    title = \"Avg consumption for \" + htype + \"s of \" + nrppl + \", built \" + bldera\n",
    "    plt.title(title)\n",
    "    plt.xlabel('time')\n",
    "    plt.ylabel('average electricity consumption')\n",
    "    xticks = pd.date_range(min(df.index), max(df.index), periods = 5)\n",
    "    plt.xticks([x.strftime('%Y-%m-%d') for x in xticks])\n",
    "    filename = htype + \"_\" + nrppl + \"_\" + bldera + \".png\"\n",
    "    plt.legend()\n",
    "    plt.savefig('../../../imgs/' + filename)\n",
    "    plt.show()"
   ]
  },
  {
   "cell_type": "code",
   "execution_count": 2,
   "id": "d7733afa",
   "metadata": {},
   "outputs": [
    {
     "name": "stdout",
     "output_type": "stream",
     "text": [
      "Found entries for 1592 sensor readings.\n",
      "Found entries for 4824 sensor readings.\n",
      "[84, 102, 147, 148, 188, 190, 214, 212, 244, 252, 276, 284, 301, 304, 309, 322]\n"
     ]
    },
    {
     "ename": "KeyError",
     "evalue": "\"['number'] not found in axis\"",
     "output_type": "error",
     "traceback": [
      "\u001b[1;31m---------------------------------------------------------------------------\u001b[0m",
      "\u001b[1;31mKeyError\u001b[0m                                  Traceback (most recent call last)",
      "\u001b[1;32m~\\AppData\\Local\\Temp/ipykernel_11748/3727866065.py\u001b[0m in \u001b[0;36m<module>\u001b[1;34m\u001b[0m\n\u001b[0;32m      1\u001b[0m \u001b[0mhome_list\u001b[0m \u001b[1;33m=\u001b[0m \u001b[1;33m[\u001b[0m\u001b[1;36m84\u001b[0m\u001b[1;33m,\u001b[0m \u001b[1;36m102\u001b[0m\u001b[1;33m,\u001b[0m \u001b[1;36m147\u001b[0m\u001b[1;33m,\u001b[0m \u001b[1;36m148\u001b[0m\u001b[1;33m,\u001b[0m \u001b[1;36m188\u001b[0m\u001b[1;33m,\u001b[0m \u001b[1;36m190\u001b[0m\u001b[1;33m,\u001b[0m \u001b[1;36m214\u001b[0m\u001b[1;33m,\u001b[0m \u001b[1;36m212\u001b[0m\u001b[1;33m,\u001b[0m \u001b[1;36m244\u001b[0m\u001b[1;33m,\u001b[0m \u001b[1;36m252\u001b[0m\u001b[1;33m,\u001b[0m \u001b[1;36m276\u001b[0m\u001b[1;33m,\u001b[0m \u001b[1;36m284\u001b[0m\u001b[1;33m,\u001b[0m \u001b[1;36m301\u001b[0m\u001b[1;33m,\u001b[0m \u001b[1;36m304\u001b[0m\u001b[1;33m,\u001b[0m \u001b[1;36m309\u001b[0m\u001b[1;33m,\u001b[0m \u001b[1;36m322\u001b[0m\u001b[1;33m]\u001b[0m\u001b[1;33m\u001b[0m\u001b[1;33m\u001b[0m\u001b[0m\n\u001b[1;32m----> 2\u001b[1;33m \u001b[0mfeatParse\u001b[0m \u001b[1;33m=\u001b[0m \u001b[0mfeatureParser\u001b[0m\u001b[1;33m(\u001b[0m\u001b[0mhome_list\u001b[0m\u001b[1;33m,\u001b[0m \u001b[1;34m\"test\"\u001b[0m\u001b[1;33m)\u001b[0m\u001b[1;33m\u001b[0m\u001b[1;33m\u001b[0m\u001b[0m\n\u001b[0m\u001b[0;32m      3\u001b[0m \u001b[0mfeatParse\u001b[0m\u001b[1;33m.\u001b[0m\u001b[0mhomeData\u001b[0m\u001b[1;33m\u001b[0m\u001b[1;33m\u001b[0m\u001b[0m\n\u001b[0;32m      4\u001b[0m \u001b[1;31m#df_all = createDF(home_list)\u001b[0m\u001b[1;33m\u001b[0m\u001b[1;33m\u001b[0m\u001b[1;33m\u001b[0m\u001b[0m\n\u001b[0;32m      5\u001b[0m \u001b[1;31m#df = calculate95ConfInt(df_all)\u001b[0m\u001b[1;33m\u001b[0m\u001b[1;33m\u001b[0m\u001b[1;33m\u001b[0m\u001b[0m\n",
      "\u001b[1;32m~\\OneDrive\\Desktop\\Universitate\\Anul 4\\MInf\\implementation\\MInf-Project\\utils\\home_features_parse.py\u001b[0m in \u001b[0;36m__init__\u001b[1;34m(self, homeList, filename)\u001b[0m\n\u001b[0;32m     28\u001b[0m \u001b[1;33m\u001b[0m\u001b[0m\n\u001b[0;32m     29\u001b[0m         \u001b[0mself\u001b[0m\u001b[1;33m.\u001b[0m\u001b[0minit_access\u001b[0m\u001b[1;33m(\u001b[0m\u001b[1;33m)\u001b[0m\u001b[1;33m\u001b[0m\u001b[1;33m\u001b[0m\u001b[0m\n\u001b[1;32m---> 30\u001b[1;33m         \u001b[0mself\u001b[0m\u001b[1;33m.\u001b[0m\u001b[0mhomeData\u001b[0m \u001b[1;33m=\u001b[0m \u001b[0mself\u001b[0m\u001b[1;33m.\u001b[0m\u001b[0m_combine\u001b[0m\u001b[1;33m(\u001b[0m\u001b[0mhomeList\u001b[0m\u001b[1;33m)\u001b[0m\u001b[1;33m\u001b[0m\u001b[1;33m\u001b[0m\u001b[0m\n\u001b[0m\u001b[0;32m     31\u001b[0m         \u001b[0mself\u001b[0m\u001b[1;33m.\u001b[0m\u001b[0mfilepath\u001b[0m \u001b[1;33m=\u001b[0m \u001b[0mself\u001b[0m\u001b[1;33m.\u001b[0m\u001b[0msaveFile\u001b[0m\u001b[1;33m(\u001b[0m\u001b[0mfilename\u001b[0m\u001b[1;33m)\u001b[0m\u001b[1;33m\u001b[0m\u001b[1;33m\u001b[0m\u001b[0m\n\u001b[0;32m     32\u001b[0m \u001b[1;33m\u001b[0m\u001b[0m\n",
      "\u001b[1;32m~\\OneDrive\\Desktop\\Universitate\\Anul 4\\MInf\\implementation\\MInf-Project\\utils\\home_features_parse.py\u001b[0m in \u001b[0;36m_combine\u001b[1;34m(self, home_list)\u001b[0m\n\u001b[0;32m    187\u001b[0m         \u001b[0mdf\u001b[0m\u001b[1;33m[\u001b[0m\u001b[1;34m'day'\u001b[0m\u001b[1;33m]\u001b[0m \u001b[1;33m=\u001b[0m \u001b[0mdf\u001b[0m\u001b[1;33m.\u001b[0m\u001b[0mindex\u001b[0m\u001b[1;33m.\u001b[0m\u001b[0mweekday\u001b[0m\u001b[1;33m\u001b[0m\u001b[1;33m\u001b[0m\u001b[0m\n\u001b[0;32m    188\u001b[0m \u001b[1;33m\u001b[0m\u001b[0m\n\u001b[1;32m--> 189\u001b[1;33m         \u001b[0mdf\u001b[0m\u001b[1;33m.\u001b[0m\u001b[0mdrop\u001b[0m\u001b[1;33m(\u001b[0m\u001b[0mcolumns\u001b[0m \u001b[1;33m=\u001b[0m \u001b[1;33m[\u001b[0m\u001b[1;34m'number'\u001b[0m\u001b[1;33m,\u001b[0m \u001b[1;34m'sunday'\u001b[0m\u001b[1;33m,\u001b[0m \u001b[1;34m'monthname'\u001b[0m\u001b[1;33m,\u001b[0m \u001b[1;34m'sunrise'\u001b[0m\u001b[1;33m,\u001b[0m \u001b[1;34m'twilight'\u001b[0m\u001b[1;33m,\u001b[0m\u001b[1;34m'daysun'\u001b[0m\u001b[1;33m,\u001b[0m\u001b[1;34m'daytwi'\u001b[0m\u001b[1;33m]\u001b[0m\u001b[1;33m,\u001b[0m \u001b[0minplace\u001b[0m \u001b[1;33m=\u001b[0m \u001b[1;32mTrue\u001b[0m\u001b[1;33m)\u001b[0m\u001b[1;33m\u001b[0m\u001b[1;33m\u001b[0m\u001b[0m\n\u001b[0m\u001b[0;32m    190\u001b[0m         \u001b[1;31m#df['std'].interpolate(\"nearest\", inplace=True)\u001b[0m\u001b[1;33m\u001b[0m\u001b[1;33m\u001b[0m\u001b[1;33m\u001b[0m\u001b[0m\n\u001b[0;32m    191\u001b[0m         \u001b[1;31m#df['min_val'] = np.where((df['avg'] - df['std']) < 0, 0,(df['avg'] - df['std']))\u001b[0m\u001b[1;33m\u001b[0m\u001b[1;33m\u001b[0m\u001b[1;33m\u001b[0m\u001b[0m\n",
      "\u001b[1;32mC:\\miniconda3\\envs\\pdiot\\lib\\site-packages\\pandas\\util\\_decorators.py\u001b[0m in \u001b[0;36mwrapper\u001b[1;34m(*args, **kwargs)\u001b[0m\n\u001b[0;32m    309\u001b[0m                     \u001b[0mstacklevel\u001b[0m\u001b[1;33m=\u001b[0m\u001b[0mstacklevel\u001b[0m\u001b[1;33m,\u001b[0m\u001b[1;33m\u001b[0m\u001b[1;33m\u001b[0m\u001b[0m\n\u001b[0;32m    310\u001b[0m                 )\n\u001b[1;32m--> 311\u001b[1;33m             \u001b[1;32mreturn\u001b[0m \u001b[0mfunc\u001b[0m\u001b[1;33m(\u001b[0m\u001b[1;33m*\u001b[0m\u001b[0margs\u001b[0m\u001b[1;33m,\u001b[0m \u001b[1;33m**\u001b[0m\u001b[0mkwargs\u001b[0m\u001b[1;33m)\u001b[0m\u001b[1;33m\u001b[0m\u001b[1;33m\u001b[0m\u001b[0m\n\u001b[0m\u001b[0;32m    312\u001b[0m \u001b[1;33m\u001b[0m\u001b[0m\n\u001b[0;32m    313\u001b[0m         \u001b[1;32mreturn\u001b[0m \u001b[0mwrapper\u001b[0m\u001b[1;33m\u001b[0m\u001b[1;33m\u001b[0m\u001b[0m\n",
      "\u001b[1;32mC:\\miniconda3\\envs\\pdiot\\lib\\site-packages\\pandas\\core\\frame.py\u001b[0m in \u001b[0;36mdrop\u001b[1;34m(self, labels, axis, index, columns, level, inplace, errors)\u001b[0m\n\u001b[0;32m   4911\u001b[0m             \u001b[0mlevel\u001b[0m\u001b[1;33m=\u001b[0m\u001b[0mlevel\u001b[0m\u001b[1;33m,\u001b[0m\u001b[1;33m\u001b[0m\u001b[1;33m\u001b[0m\u001b[0m\n\u001b[0;32m   4912\u001b[0m             \u001b[0minplace\u001b[0m\u001b[1;33m=\u001b[0m\u001b[0minplace\u001b[0m\u001b[1;33m,\u001b[0m\u001b[1;33m\u001b[0m\u001b[1;33m\u001b[0m\u001b[0m\n\u001b[1;32m-> 4913\u001b[1;33m             \u001b[0merrors\u001b[0m\u001b[1;33m=\u001b[0m\u001b[0merrors\u001b[0m\u001b[1;33m,\u001b[0m\u001b[1;33m\u001b[0m\u001b[1;33m\u001b[0m\u001b[0m\n\u001b[0m\u001b[0;32m   4914\u001b[0m         )\n\u001b[0;32m   4915\u001b[0m \u001b[1;33m\u001b[0m\u001b[0m\n",
      "\u001b[1;32mC:\\miniconda3\\envs\\pdiot\\lib\\site-packages\\pandas\\core\\generic.py\u001b[0m in \u001b[0;36mdrop\u001b[1;34m(self, labels, axis, index, columns, level, inplace, errors)\u001b[0m\n\u001b[0;32m   4148\u001b[0m         \u001b[1;32mfor\u001b[0m \u001b[0maxis\u001b[0m\u001b[1;33m,\u001b[0m \u001b[0mlabels\u001b[0m \u001b[1;32min\u001b[0m \u001b[0maxes\u001b[0m\u001b[1;33m.\u001b[0m\u001b[0mitems\u001b[0m\u001b[1;33m(\u001b[0m\u001b[1;33m)\u001b[0m\u001b[1;33m:\u001b[0m\u001b[1;33m\u001b[0m\u001b[1;33m\u001b[0m\u001b[0m\n\u001b[0;32m   4149\u001b[0m             \u001b[1;32mif\u001b[0m \u001b[0mlabels\u001b[0m \u001b[1;32mis\u001b[0m \u001b[1;32mnot\u001b[0m \u001b[1;32mNone\u001b[0m\u001b[1;33m:\u001b[0m\u001b[1;33m\u001b[0m\u001b[1;33m\u001b[0m\u001b[0m\n\u001b[1;32m-> 4150\u001b[1;33m                 \u001b[0mobj\u001b[0m \u001b[1;33m=\u001b[0m \u001b[0mobj\u001b[0m\u001b[1;33m.\u001b[0m\u001b[0m_drop_axis\u001b[0m\u001b[1;33m(\u001b[0m\u001b[0mlabels\u001b[0m\u001b[1;33m,\u001b[0m \u001b[0maxis\u001b[0m\u001b[1;33m,\u001b[0m \u001b[0mlevel\u001b[0m\u001b[1;33m=\u001b[0m\u001b[0mlevel\u001b[0m\u001b[1;33m,\u001b[0m \u001b[0merrors\u001b[0m\u001b[1;33m=\u001b[0m\u001b[0merrors\u001b[0m\u001b[1;33m)\u001b[0m\u001b[1;33m\u001b[0m\u001b[1;33m\u001b[0m\u001b[0m\n\u001b[0m\u001b[0;32m   4151\u001b[0m \u001b[1;33m\u001b[0m\u001b[0m\n\u001b[0;32m   4152\u001b[0m         \u001b[1;32mif\u001b[0m \u001b[0minplace\u001b[0m\u001b[1;33m:\u001b[0m\u001b[1;33m\u001b[0m\u001b[1;33m\u001b[0m\u001b[0m\n",
      "\u001b[1;32mC:\\miniconda3\\envs\\pdiot\\lib\\site-packages\\pandas\\core\\generic.py\u001b[0m in \u001b[0;36m_drop_axis\u001b[1;34m(self, labels, axis, level, errors)\u001b[0m\n\u001b[0;32m   4183\u001b[0m                 \u001b[0mnew_axis\u001b[0m \u001b[1;33m=\u001b[0m \u001b[0maxis\u001b[0m\u001b[1;33m.\u001b[0m\u001b[0mdrop\u001b[0m\u001b[1;33m(\u001b[0m\u001b[0mlabels\u001b[0m\u001b[1;33m,\u001b[0m \u001b[0mlevel\u001b[0m\u001b[1;33m=\u001b[0m\u001b[0mlevel\u001b[0m\u001b[1;33m,\u001b[0m \u001b[0merrors\u001b[0m\u001b[1;33m=\u001b[0m\u001b[0merrors\u001b[0m\u001b[1;33m)\u001b[0m\u001b[1;33m\u001b[0m\u001b[1;33m\u001b[0m\u001b[0m\n\u001b[0;32m   4184\u001b[0m             \u001b[1;32melse\u001b[0m\u001b[1;33m:\u001b[0m\u001b[1;33m\u001b[0m\u001b[1;33m\u001b[0m\u001b[0m\n\u001b[1;32m-> 4185\u001b[1;33m                 \u001b[0mnew_axis\u001b[0m \u001b[1;33m=\u001b[0m \u001b[0maxis\u001b[0m\u001b[1;33m.\u001b[0m\u001b[0mdrop\u001b[0m\u001b[1;33m(\u001b[0m\u001b[0mlabels\u001b[0m\u001b[1;33m,\u001b[0m \u001b[0merrors\u001b[0m\u001b[1;33m=\u001b[0m\u001b[0merrors\u001b[0m\u001b[1;33m)\u001b[0m\u001b[1;33m\u001b[0m\u001b[1;33m\u001b[0m\u001b[0m\n\u001b[0m\u001b[0;32m   4186\u001b[0m             \u001b[0mresult\u001b[0m \u001b[1;33m=\u001b[0m \u001b[0mself\u001b[0m\u001b[1;33m.\u001b[0m\u001b[0mreindex\u001b[0m\u001b[1;33m(\u001b[0m\u001b[1;33m**\u001b[0m\u001b[1;33m{\u001b[0m\u001b[0maxis_name\u001b[0m\u001b[1;33m:\u001b[0m \u001b[0mnew_axis\u001b[0m\u001b[1;33m}\u001b[0m\u001b[1;33m)\u001b[0m\u001b[1;33m\u001b[0m\u001b[1;33m\u001b[0m\u001b[0m\n\u001b[0;32m   4187\u001b[0m \u001b[1;33m\u001b[0m\u001b[0m\n",
      "\u001b[1;32mC:\\miniconda3\\envs\\pdiot\\lib\\site-packages\\pandas\\core\\indexes\\base.py\u001b[0m in \u001b[0;36mdrop\u001b[1;34m(self, labels, errors)\u001b[0m\n\u001b[0;32m   6015\u001b[0m         \u001b[1;32mif\u001b[0m \u001b[0mmask\u001b[0m\u001b[1;33m.\u001b[0m\u001b[0many\u001b[0m\u001b[1;33m(\u001b[0m\u001b[1;33m)\u001b[0m\u001b[1;33m:\u001b[0m\u001b[1;33m\u001b[0m\u001b[1;33m\u001b[0m\u001b[0m\n\u001b[0;32m   6016\u001b[0m             \u001b[1;32mif\u001b[0m \u001b[0merrors\u001b[0m \u001b[1;33m!=\u001b[0m \u001b[1;34m\"ignore\"\u001b[0m\u001b[1;33m:\u001b[0m\u001b[1;33m\u001b[0m\u001b[1;33m\u001b[0m\u001b[0m\n\u001b[1;32m-> 6017\u001b[1;33m                 \u001b[1;32mraise\u001b[0m \u001b[0mKeyError\u001b[0m\u001b[1;33m(\u001b[0m\u001b[1;34mf\"{labels[mask]} not found in axis\"\u001b[0m\u001b[1;33m)\u001b[0m\u001b[1;33m\u001b[0m\u001b[1;33m\u001b[0m\u001b[0m\n\u001b[0m\u001b[0;32m   6018\u001b[0m             \u001b[0mindexer\u001b[0m \u001b[1;33m=\u001b[0m \u001b[0mindexer\u001b[0m\u001b[1;33m[\u001b[0m\u001b[1;33m~\u001b[0m\u001b[0mmask\u001b[0m\u001b[1;33m]\u001b[0m\u001b[1;33m\u001b[0m\u001b[1;33m\u001b[0m\u001b[0m\n\u001b[0;32m   6019\u001b[0m         \u001b[1;32mreturn\u001b[0m \u001b[0mself\u001b[0m\u001b[1;33m.\u001b[0m\u001b[0mdelete\u001b[0m\u001b[1;33m(\u001b[0m\u001b[0mindexer\u001b[0m\u001b[1;33m)\u001b[0m\u001b[1;33m\u001b[0m\u001b[1;33m\u001b[0m\u001b[0m\n",
      "\u001b[1;31mKeyError\u001b[0m: \"['number'] not found in axis\""
     ]
    }
   ],
   "source": [
    "home_list = [84, 102, 147, 148, 188, 190, 214, 212, 244, 252, 276, 284, 301, 304, 309, 322]\n",
    "featParse = featureParser(home_list, \"test\")\n",
    "featParse.homeData\n",
    "#df_all = createDF(home_list)\n",
    "#df = calculate95ConfInt(df_all)\n",
    "#plotAvgwithConfInt(df, \"flat\", \"3 or more people\", \"after 1900\")\n",
    "\n"
   ]
  },
  {
   "cell_type": "code",
   "execution_count": null,
   "id": "628daa6a",
   "metadata": {},
   "outputs": [],
   "source": [
    "df_all[df_all.iloc[:, 0:16].count(axis=1)>=15]"
   ]
  },
  {
   "cell_type": "code",
   "execution_count": null,
   "id": "2427d107",
   "metadata": {},
   "outputs": [],
   "source": [
    "# flat, 3 or more people, after 1900\n",
    "#home_list0 = [84, 102, 147, 148, 188, 190, 214, 212, 244, 252, 276, 284, 301, 304, 309, 322]\n",
    "#name0 = 'flat_3 or more people_After 1900'\n",
    "#featParse0 = featureParser(home_list0, name0)\n",
    "# flat, 2 or less ppl, before 1900\n",
    "#home_list1 = [62, 72, 74, 83, 105, 114, 116, 117, 119, 125, 136, 135, 144, 145, 150, 153, 156, 158, 160, 159, 167, 179, 205, 208, 215, 225, 227, 234, 249, 248, 250, 251, 253, 256, 267, 269, 275, 278, 279, 286, 292, 294, 295, 310, 311, 328, 319, 313, 323, 320]\n",
    "#name1 = 'flat_2 or less people_Before 1900'\n",
    "#featParse1 = featureParser(home_list1, name1)\n",
    "# flat, 2 or less ppl, after 1900\n",
    "home_list2 = [47, 59, 67, 70, 75, 71, 77, 80, 91, 94, 100, 106, 118, 121, 128, 137, 141, 143, 149, 165, 157, 162, 189, 193, 194, 197, 213, 216, 221, 209, 226, 237, 239, 238, 241, 257, 258, 262, 272, 274, 285, 289, 288, 300, 302, 317, 321, 332]\n",
    "name2 = 'flat_2 or less people_After 1900'\n",
    "featParse = featureParser(home_list2, name2)\n",
    "# flat, 3 or more ppl, before 1900\n",
    "home_list3 = [64, 73, 78, 76, 85, 93, 98, 97, 122, 123, 124, 139, 140, 180, 177, 182, 201, 218, 240, 255, 265, 280, 282, 287, 296, 334, 333]\n",
    "name3 = 'flat_3 or more people_Before 1900'\n",
    "featParse = featureParser(home_list3, name3)\n",
    "# house, 2 or less ppl, before 1965\n",
    "home_list4 = [61, 63, 65, 68, 81, 86, 82, 89, 120, 126, 151, 155, 161, 178, 183, 266, 259, 281, 283, 291, 298, 305, 308, 315]\n",
    "name4 = 'house_or_bungalow_2 or less people_Before 1965'\n",
    "featParse = featureParser(home_list4, name4)\n",
    "# house, 2 or less ppl, after 1965\n",
    "home_list5 = [88, 90, 101, 107, 169, 163, 175, 184, 186, 202, 203, 224, 231, 235, 260, 268, 277, 293, 303, 299, 329, 331]\n",
    "name5 = 'house_or_bungalow_2 or less people_After 1965'\n",
    "featParse = featureParser(home_list5, name5)\n",
    "# house, 3 or more ppl, before 1965\n",
    "home_list6 = [92, 96, 99, 133, 134, 138, 146, 152, 154, 164, 166, 168, 174, 176, 185, 187, 192, 195, 199, 200, 206, 210, 211, 222, 229, 232, 230, 243, 245, 247, 261, 264, 263, 270, 273, 290, 306, 307, 326, 327, 330]\n",
    "name6 = 'house_or_bungalow_3 or more people_Before 1965'\n",
    "featParse = featureParser(home_list6, name6)\n",
    "# house, 3 or more ppl, after 1965. house 223 has no electric-mains issued\n",
    "home_list7 = [66, 69, 79, 109, 110, 115, 129, 113, 170, 173, 181, 191, 207, 233, 236, 242, 246, 254, 316, 318, 325, 335]\n",
    "name7 = 'house_or_bungalow_3 or more people_After 1965'\n",
    "featParse = featureParser(home_list7, name7)"
   ]
  },
  {
   "cell_type": "code",
   "execution_count": null,
   "id": "6e577d82",
   "metadata": {},
   "outputs": [],
   "source": [
    "#filepath = 'C:\\Users\\Alex\\OneDrive\\Desktop\\Universitate\\Anul 4\\MInf\\implementation\\MInf-Project\\generated_data'\n",
    "filename = \"flat_3 or more people_After 1900.zip\"\n",
    "df_created = pd.read_csv('..\\generated_data\\\\' + filename)\n",
    "df_created.set_index('time')"
   ]
  },
  {
   "cell_type": "code",
   "execution_count": null,
   "id": "975b05df",
   "metadata": {},
   "outputs": [],
   "source": [
    "df_created."
   ]
  },
  {
   "cell_type": "code",
   "execution_count": null,
   "id": "b3d0fa9c",
   "metadata": {},
   "outputs": [],
   "source": [
    "hl = [102, 147, 148, 188, 190, 214, 212, 244, 252, 276, 284, 301, 304, 309, 322]\n",
    "for h in hl:\n",
    "    home_data = ideal.get(homeid = h, category = 'electric-mains')\n",
    "    ds = home_data[0]['readings']\n",
    "    print(ds.head(5))"
   ]
  },
  {
   "cell_type": "code",
   "execution_count": null,
   "id": "4afcd30e",
   "metadata": {},
   "outputs": [],
   "source": [
    "set_twilight_dict = {\n",
    "            'January': datetime.time(hour=17, minute=0),\n",
    "            'February': datetime.time(hour=18, minute=0),\n",
    "            'March': datetime.time(hour=19, minute=0),\n",
    "            'April': datetime.time(hour=21, minute=0),\n",
    "            'May': datetime.time(hour=22, minute=0),\n",
    "            'June': datetime.time(hour=23, minute=0),\n",
    "            'July': datetime.time(hour=22, minute=45),\n",
    "            'August': datetime.time(hour=21, minute=30),\n",
    "            'September': datetime.time(hour=20, minute=0),\n",
    "            'October': datetime.time(hour=18, minute=45),\n",
    "            'November': datetime.time(hour=16, minute=50),\n",
    "            'December': datetime.time(hour=16, minute=0)\n",
    "        }\n",
    "sunrise_dict = {\n",
    "            'January': datetime.time(hour=8, minute=30),\n",
    "            'February': datetime.time(hour=7, minute=40),\n",
    "            'March': datetime.time(hour=6, minute=30),\n",
    "            'April': datetime.time(hour=6, minute=0),\n",
    "            'May': datetime.time(hour=5, minute=0),\n",
    "            'June': datetime.time(hour=4, minute=26),\n",
    "            'July': datetime.time(hour=4, minute=45),\n",
    "            'August': datetime.time(hour=5, minute=45),\n",
    "            'September': datetime.time(hour=6, minute=45),\n",
    "            'October': datetime.time(hour=7, minute=40),\n",
    "            'November': datetime.time(hour=7, minute=50),\n",
    "            'December': datetime.time(hour=8, minute=40)\n",
    "        }\n",
    "weatherDF = pd.read_csv(folder_path + '\\weatherreading.csv.gz')\n",
    "metaweatherDF = meta_ideal._metafile('weatherfeed')['weatherfeed']\n",
    "metahomes = meta_ideal._metafile('home')['home']\n",
    "\n",
    "\n",
    "home_list = [84, 102]\n",
    "home_data = ideal.get(homeid = home_list[0], category = 'electric-mains')\n",
    "\n",
    "loc = metahomes[metahomes.homeid==home_list[0]].get('location').item()\n",
    "feedid = metaweatherDF[(metaweatherDF.locationid == loc) & (metaweatherDF.weather_type=='temperature')].get('feedid').item()\n",
    "allWeather = weatherDF[weatherDF.feedid == feedid]\n",
    "allWeather['time'] = pd.to_datetime(allWeather['time']).dt.round('30min')\n",
    "allWeather = allWeather.astype({'value':int})\n",
    "allWeather.drop(columns = ['feedid'], inplace = True)\n",
    "allWeather = allWeather.set_index('time').resample('30T').mean()\n",
    "allWeather.reset_index(inplace = True)\n",
    "strn = 'value_' + str(0)\n",
    "allWeather.rename(columns={'value':strn}, inplace = True)\n",
    "#allWeather.set_index('time')\n",
    "\n",
    "ds = home_data[0]['readings']\n",
    "df_resample = ds.resample('30T').mean()\n",
    "df_count = ds.resample('30T').count()\n",
    "df_resample.loc[df_count < 900] = np.nan\n",
    "df_all = df_resample.to_frame()\n",
    "\n",
    "name = 'electric-combined_'+str(0)\n",
    "df_all.rename(columns={'electric-combined':name}, inplace = True)\n",
    "df_all.reset_index(inplace = True)\n",
    "\n",
    "for idx,home_id in enumerate(home_list[1:], start=1):\n",
    "    home_data = ideal.get(homeid = home_id, category = 'electric-mains')\n",
    "    \n",
    "    loc = metahomes[metahomes.homeid==home_id].get('location').item()\n",
    "    feedid = metaweatherDF[(metaweatherDF.locationid == loc) & (metaweatherDF.weather_type=='temperature')].get('feedid').item()\n",
    "    weatherInfo = weatherDF[weatherDF.feedid == feedid]\n",
    "    weatherInfo['time'] = pd.to_datetime(weatherInfo['time']).dt.round('30min')\n",
    "    weatherInfo = weatherInfo.astype({'value':int})\n",
    "    weatherInfo.drop(columns = ['feedid'], inplace = True)\n",
    "    weatherInfo = weatherInfo.set_index('time').resample('30T').mean()\n",
    "    weatherInfo.reset_index(inplace = True)\n",
    "    strn = 'value_' + str(idx)\n",
    "    weatherInfo.rename(columns={'value':strn}, inplace = True)\n",
    "    #weatherInfo.set_index('time')\n",
    "    allWeather = pd.merge(allWeather, weatherInfo, how='outer', left_on = 'time', right_on = 'time')\n",
    "    \n",
    "    ds = home_data[0]['readings']\n",
    "    df_resample = ds.resample('30T').mean()\n",
    "    df_count = ds.resample('30T').count()\n",
    "    df_resample.loc[df_count < 900] = np.nan\n",
    "    df = df_resample.to_frame()\n",
    "    \n",
    "    name = 'electric-combined_'+str(idx)\n",
    "    df.rename(columns={'electric-combined':name}, inplace = True)\n",
    "    df.reset_index(inplace = True)\n",
    "    df_all = pd.merge(df_all, df, how='outer', left_on = 'time', right_on = 'time')\n",
    "\n",
    "\n",
    "df_all.set_index('time', inplace = True)"
   ]
  },
  {
   "cell_type": "code",
   "execution_count": null,
   "id": "2758d72f",
   "metadata": {},
   "outputs": [],
   "source": [
    "df_all"
   ]
  },
  {
   "cell_type": "code",
   "execution_count": null,
   "id": "2528ccd1",
   "metadata": {},
   "outputs": [],
   "source": [
    "allWeather['value'] = allWeather.mean(axis=1).round()\n",
    "allWeather['2017-01-31 13:30:00':'2018-06-12 07:30:00']"
   ]
  },
  {
   "cell_type": "code",
   "execution_count": null,
   "id": "e80622de",
   "metadata": {},
   "outputs": [],
   "source": [
    "allWeather.reset_index(inplace = True)\n",
    "df = pd.DataFrame(index = df_all.index)\n",
    "\n",
    "df.reset_index(inplace=True)\n",
    "allWeather.set_index('time', inplace = True)\n",
    "meanWeather = pd.DataFrame(index = allWeather.index)\n",
    "meanWeather['meantemp'] = allWeather.mean(axis=1).round()\n",
    "meanWeather.reset_index(inplace = True)\n",
    "df = pd.merge(df, meanWeather, how='left', left_on = 'time', right_on = 'time')\n",
    "print(df)"
   ]
  },
  {
   "cell_type": "code",
   "execution_count": null,
   "id": "7d5d1ae2",
   "metadata": {},
   "outputs": [],
   "source": [
    "allWeather.reset_index(inplace = True)\n",
    "df = pd.DataFrame(index = df_all.index)\n",
    "\n",
    "df.reset_index(inplace=True)\n",
    "allWeather.set_index('time', inplace = True)\n",
    "meanWeather = pd.DataFrame(index = allWeather.index)\n",
    "meanWeather['meantemp'] = allWeather.mean(axis=1).round()\n",
    "meanWeather.reset_index(inplace = True)\n",
    "df = pd.merge(df, meanWeather, how='left', left_on = 'time', right_on = 'time')\n",
    "df.set_index('time', inplace = True)\n",
    "\n",
    "df['avg'] = df_all.mean(axis=1)\n",
    "#df['std'] = df_all.std(axis=1)\n",
    "df['avg'].interpolate(\"linear\", inplace=True)\n",
    "df['month'] = df.index.month\n",
    "df['monthname'] = df.index.month_name()\n",
    "df['year'] = df.index.year\n",
    "df['weekend'] = df.index.weekday>4\n",
    "df['weekend'] = df['weekend'].astype(int) \n",
    "df['sunrise'] = df['monthname'].map(sunrise_dict)\n",
    "df['twilight'] = df['monthname'].map(set_twilight_dict)\n",
    "df['daysun'] = df.index.time >= df.sunrise\n",
    "df['daytwi'] = df.index.time <= df.twilight\n",
    "df['daylight'] = df['daysun'] & df['daytwi']\n",
    "df['daylight'] = df['daylight'].astype(int)\n",
    "df.drop(columns = ['monthname', 'sunrise', 'twilight','daysun','daytwi'], inplace = True)\n",
    "df"
   ]
  },
  {
   "cell_type": "code",
   "execution_count": null,
   "id": "8ea92fda",
   "metadata": {},
   "outputs": [],
   "source": []
  },
  {
   "cell_type": "code",
   "execution_count": null,
   "id": "50f7499c",
   "metadata": {},
   "outputs": [],
   "source": [
    "weatherDF = pd.read_csv(folder_path + '\\weatherreading.csv.gz')"
   ]
  },
  {
   "cell_type": "code",
   "execution_count": null,
   "id": "566cd9bd",
   "metadata": {
    "scrolled": true
   },
   "outputs": [],
   "source": [
    "weatherDF"
   ]
  },
  {
   "cell_type": "code",
   "execution_count": null,
   "id": "afb7f0c9",
   "metadata": {},
   "outputs": [],
   "source": [
    "metaweatherDF = pd.read_csv(meta_folder_path + '\\weatherfeed.csv')"
   ]
  },
  {
   "cell_type": "code",
   "execution_count": null,
   "id": "4cc65029",
   "metadata": {},
   "outputs": [],
   "source": [
    "metaweatherDF"
   ]
  },
  {
   "cell_type": "code",
   "execution_count": null,
   "id": "c318f07c",
   "metadata": {},
   "outputs": [],
   "source": [
    "#Edinburgh\n",
    "weatherDF[weatherDF.feedid == 1]  #temperature"
   ]
  },
  {
   "cell_type": "code",
   "execution_count": null,
   "id": "f057bebe",
   "metadata": {},
   "outputs": [],
   "source": [
    "\n",
    "#westLothian\n",
    "weatherDF[weatherDF.feedid == 16]  #temperature"
   ]
  },
  {
   "cell_type": "code",
   "execution_count": null,
   "id": "7cfb85b9",
   "metadata": {},
   "outputs": [],
   "source": [
    "#Midlothian\n",
    "weatherDF[weatherDF.feedid == 21]  #temperature"
   ]
  },
  {
   "cell_type": "code",
   "execution_count": null,
   "id": "8ae306e1",
   "metadata": {},
   "outputs": [],
   "source": [
    "\n",
    "#eastLothian\n",
    "weatherDF[weatherDF.feedid == 26]  #temperature"
   ]
  },
  {
   "cell_type": "code",
   "execution_count": null,
   "id": "790803bc",
   "metadata": {},
   "outputs": [],
   "source": [
    "\n",
    "#Fife\n",
    "weatherDF[weatherDF.feedid == 31]  #temperature"
   ]
  },
  {
   "cell_type": "code",
   "execution_count": null,
   "id": "3ff7021a",
   "metadata": {},
   "outputs": [],
   "source": []
  }
 ],
 "metadata": {
  "kernelspec": {
   "display_name": "Python [conda env:pdiot] *",
   "language": "python",
   "name": "conda-env-pdiot-py"
  },
  "language_info": {
   "codemirror_mode": {
    "name": "ipython",
    "version": 3
   },
   "file_extension": ".py",
   "mimetype": "text/x-python",
   "name": "python",
   "nbconvert_exporter": "python",
   "pygments_lexer": "ipython3",
   "version": "3.7.11"
  }
 },
 "nbformat": 4,
 "nbformat_minor": 5
}
