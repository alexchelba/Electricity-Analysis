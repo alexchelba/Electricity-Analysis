{
 "cells": [
  {
   "cell_type": "code",
   "execution_count": 53,
   "id": "c51173e4",
   "metadata": {},
   "outputs": [],
   "source": [
    "import pandas as pd\n",
    "import datetime\n",
    "import numpy as np\n",
    "import os\n",
    "import matplotlib.pyplot as plt\n",
    "import math\n",
    "import sys\n",
    "import seaborn as sns\n",
    "import datetime\n",
    "from home_features_parse import featureParser\n",
    "#sys.path.insert(1, '../')\n",
    "#from API.IdealDataInterface import IdealDataInterface\n",
    "#from API.IdealMetadataInterface import IdealMetadataInterface"
   ]
  },
  {
   "cell_type": "code",
   "execution_count": null,
   "id": "5dba1a21",
   "metadata": {},
   "outputs": [],
   "source": [
    "meta_folder_path = 'D:\\\\MInf_data\\\\metadata'\n",
    "meta_ideal = IdealMetadataInterface(meta_folder_path)"
   ]
  },
  {
   "cell_type": "code",
   "execution_count": null,
   "id": "ffb50e8b",
   "metadata": {},
   "outputs": [],
   "source": [
    "folder_path = 'D:\\\\MInf_data\\\\sensordata'\n",
    "ideal = IdealDataInterface(folder_path)"
   ]
  },
  {
   "cell_type": "code",
   "execution_count": null,
   "id": "f11e0dab",
   "metadata": {},
   "outputs": [],
   "source": [
    "def createDF(home_list):\n",
    "    df_list = []\n",
    "    for idx,home_id in enumerate(home_list):\n",
    "        home_data = ideal.get(homeid = home_id, category = 'electric-mains')\n",
    "        ds = home_data[0]['readings']\n",
    "        df_resample = ds.resample('30T').mean()\n",
    "        df_count = ds.resample('30T').count()\n",
    "        df_resample.loc[df_count < 900] = np.nan\n",
    "        df = df_resample.to_frame()\n",
    "        name = 'electric-combined_'+str(idx)\n",
    "        df.rename(columns={'electric-combined':name})\n",
    "        df_list.append(df)\n",
    "    df_all = pd.concat(df_list, axis=1)\n",
    "    return df_all"
   ]
  },
  {
   "cell_type": "code",
   "execution_count": null,
   "id": "e30a650b",
   "metadata": {},
   "outputs": [],
   "source": [
    "# calculate 95% confidence interval\n",
    "def calculate95ConfInt(df_all):\n",
    "    df = pd.DataFrame()\n",
    "    df['avg'] = df_all.mean(axis=1)\n",
    "    df['std'] = df_all.std(axis=1)\n",
    "    df['avg'].interpolate(\"linear\", order=3, inplace=True)\n",
    "    df['std'].interpolate(\"nearest\", inplace=True)\n",
    "    df['min_val'] = np.where((df['avg'] - df['std']) < 0, 0,(df['avg'] - df['std']))\n",
    "    df['max_val'] = df['avg'] + df['std']\n",
    "    return df"
   ]
  },
  {
   "cell_type": "code",
   "execution_count": null,
   "id": "d1646809",
   "metadata": {},
   "outputs": [],
   "source": [
    "def plotAvgwithConfInt(df, htype, nrppl, bldera):\n",
    "    #sns.lineplot(x = df.index, y = \"avg\", data = df)\n",
    "    plt.plot(df.index, df.avg, c='purple', label = \"average consumption\")\n",
    "    plt.fill_between(df.index, df.min_val, df.max_val, color='blue', alpha=.2, label = \"Standard Deviation\")\n",
    "    title = \"Avg consumption for \" + htype + \"s of \" + nrppl + \", built \" + bldera\n",
    "    plt.title(title)\n",
    "    plt.xlabel('time')\n",
    "    plt.ylabel('average electricity consumption')\n",
    "    xticks = pd.date_range(min(df.index), max(df.index), periods = 5)\n",
    "    plt.xticks([x.strftime('%Y-%m-%d') for x in xticks])\n",
    "    filename = htype + \"_\" + nrppl + \"_\" + bldera + \".png\"\n",
    "    plt.legend()\n",
    "    plt.savefig('../../../imgs/' + filename)\n",
    "    plt.show()"
   ]
  },
  {
   "cell_type": "code",
   "execution_count": 8,
   "id": "d7733afa",
   "metadata": {
    "scrolled": true
   },
   "outputs": [
    {
     "name": "stdout",
     "output_type": "stream",
     "text": [
      "Found entries for 1592 sensor readings.\n",
      "Found entries for 4824 sensor readings.\n",
      "[64, 73, 78, 76, 85, 93, 98, 97, 122, 123, 124, 139, 140, 180, 177, 182, 201, 218, 240, 255, 265, 280, 282, 287, 296, 334, 333]\n"
     ]
    },
    {
     "data": {
      "text/plain": [
       "1869"
      ]
     },
     "execution_count": 8,
     "metadata": {},
     "output_type": "execute_result"
    }
   ],
   "source": [
    "#home_list = [84, 102, 147, 148, 188, 190, 214, 212, 244, 252, 276, 284, 301, 304, 309, 322]\n",
    "#featParse = featureParser(home_list, \"test\")\n",
    "#featParse.homeData.avg.isna().sum()\n",
    "\n",
    "home_list3 = [64, 73, 78, 76, 85, 93, 98, 97, 122, 123, 124, 139, 140, 180, 177, 182, 201, 218, 240, 255, 265, 280, 282, 287, 296, 334, 333]\n",
    "name3 = 'flat_3 or more people_Before 1900'\n",
    "featParse = featureParser(home_list3, name3)\n",
    "featParse.homeData.avg.isna().sum()\n",
    "#df_all = createDF(home_list)\n",
    "#df = calculate95ConfInt(df_all)\n",
    "#plotAvgwithConfInt(df, \"flat\", \"3 or more people\", \"after 1900\")\n",
    "\n"
   ]
  },
  {
   "cell_type": "code",
   "execution_count": 54,
   "id": "1c0b7c3b",
   "metadata": {},
   "outputs": [
    {
     "data": {
      "text/plain": [
       "<AxesSubplot:xlabel='time'>"
      ]
     },
     "execution_count": 54,
     "metadata": {},
     "output_type": "execute_result"
    },
    {
     "data": {
      "image/png": "[encoded data removed]",
      "text/plain": [
       "<Figure size 432x288 with 1 Axes>"
      ]
     },
     "metadata": {
      "needs_background": "light"
     },
     "output_type": "display_data"
    }
   ],
   "source": [
    "df = featParse.homeData\n",
    "df = df.sort_values('time')\n",
    "#df['avg'].interpolate(limit=1, inplace=True, limit_direction='both', limit_area='inside')\n",
    "df.avg.plot()"
   ]
  },
  {
   "cell_type": "code",
   "execution_count": 58,
   "id": "0286f1bd",
   "metadata": {},
   "outputs": [],
   "source": [
    "df['year'] = pd.to_datetime(df.index).year\n",
    "monthly_df = df.groupby(['year','month'],as_index=False).mean()"
   ]
  },
  {
   "cell_type": "code",
   "execution_count": 113,
   "id": "24257559",
   "metadata": {},
   "outputs": [],
   "source": [
    "df.avg = df.avg.fillna(value = df.groupby([df.index.year, 'month']).avg.transform('mean'))"
   ]
  },
  {
   "cell_type": "code",
   "execution_count": 114,
   "id": "c051f0ea",
   "metadata": {},
   "outputs": [
    {
     "data": {
      "text/plain": [
       "<AxesSubplot:xlabel='time'>"
      ]
     },
     "execution_count": 114,
     "metadata": {},
     "output_type": "execute_result"
    },
    {
     "data": {
      "image/png": "[encoded data removed]",
      "text/plain": [
       "<Figure size 432x288 with 1 Axes>"
      ]
     },
     "metadata": {
      "needs_background": "light"
     },
     "output_type": "display_data"
    }
   ],
   "source": [
    "df.avg.plot()"
   ]
  },
  {
   "cell_type": "code",
   "execution_count": null,
   "id": "c9d8b751",
   "metadata": {},
   "outputs": [],
   "source": [
    "sd = pd.DataFrame(df['avg'].values.tolist(), index = df.index).mean(1)\n",
    "df['avg'] = sd\n",
    "df"
   ]
  },
  {
   "cell_type": "code",
   "execution_count": null,
   "id": "628daa6a",
   "metadata": {},
   "outputs": [],
   "source": [
    "df_all[df_all.iloc[:, 0:16].count(axis=1)>=15]"
   ]
  },
  {
   "cell_type": "code",
   "execution_count": 2,
   "id": "2427d107",
   "metadata": {},
   "outputs": [],
   "source": [
    "# flat, 3 or more people, after 1900\n",
    "home_list0 = [84, 102, 147, 148, 188, 190, 214, 212, 244, 252, 276, 284, 301, 304, 309, 322]\n",
    "name0 = 'flat_3 or more people_After 1900'\n",
    "#featParse = featureParser(home_list0, name0)\n",
    "#flat, 2 or less ppl, before 1900\n",
    "home_list1 = [62, 72, 74, 83, 105, 114, 116, 117, 119, 125, 136, 135, 144, 145, 150, 153, 156, 158, 160, 159, 167, 179, 205, 208, 215, 225, 227, 234, 249, 248, 250, 251, 253, 256, 267, 269, 275, 278, 279, 286, 292, 294, 295, 310, 311, 328, 319, 313, 323, 320]\n",
    "name1 = 'flat_2 or less people_Before 1900'\n",
    "#featParse = featureParser(home_list1, name1)\n",
    "# flat, 2 or less ppl, after 1900\n",
    "home_list2 = [47, 59, 67, 70, 75, 71, 77, 80, 91, 94, 100, 106, 118, 121, 128, 137, 141, 143, 149, 165, 157, 162, 189, 193, 194, 197, 213, 216, 221, 209, 226, 237, 239, 238, 241, 257, 258, 262, 272, 274, 285, 289, 288, 300, 302, 317, 321, 332]\n",
    "name2 = 'flat_2 or less people_After 1900'\n",
    "#featParse = featureParser(home_list2, name2)\n",
    "# flat, 3 or more ppl, before 1900\n",
    "home_list3 = [64, 73, 78, 76, 85, 93, 98, 97, 122, 123, 124, 139, 140, 180, 177, 182, 201, 218, 240, 255, 265, 280, 282, 287, 296, 334, 333]\n",
    "name3 = 'flat_3 or more people_Before 1900'\n",
    "#featParse = featureParser(home_list3, name3)\n",
    "# house, 2 or less ppl, before 1965\n",
    "home_list4 = [61, 63, 65, 68, 81, 86, 82, 89, 120, 126, 151, 155, 161, 178, 183, 266, 259, 281, 283, 291, 298, 305, 308, 315]\n",
    "name4 = 'house_or_bungalow_2 or less people_Before 1965'\n",
    "#featParse = featureParser(home_list4, name4)\n",
    "# house, 2 or less ppl, after 1965\n",
    "home_list5 = [88, 90, 101, 107, 169, 163, 175, 184, 186, 202, 203, 224, 231, 235, 260, 268, 277, 293, 303, 299, 329, 331]\n",
    "name5 = 'house_or_bungalow_2 or less people_After 1965'\n",
    "#featParse = featureParser(home_list5, name5)\n",
    "# house, 3 or more ppl, before 1965\n",
    "home_list6 = [92, 96, 99, 133, 134, 138, 146, 152, 154, 164, 166, 168, 174, 176, 185, 187, 192, 195, 199, 200, 206, 210, 211, 222, 229, 232, 230, 243, 245, 247, 261, 264, 263, 270, 273, 290, 306, 307, 326, 327, 330]\n",
    "name6 = 'house_or_bungalow_3 or more people_Before 1965'\n",
    "#featParse = featureParser(home_list6, name6)\n",
    "# house, 3 or more ppl, after 1965. house 223 has no electric-mains issued\n",
    "home_list7 = [66, 69, 79, 109, 110, 115, 129, 113, 170, 173, 181, 191, 207, 233, 236, 242, 246, 254, 316, 318, 325, 335]\n",
    "name7 = 'house_or_bungalow_3 or more people_After 1965'\n",
    "#featParse = featureParser(home_list7, name7)"
   ]
  },
  {
   "cell_type": "code",
   "execution_count": 5,
   "id": "75ff1306",
   "metadata": {},
   "outputs": [
    {
     "name": "stdout",
     "output_type": "stream",
     "text": [
      "Found entries for 1592 sensor readings.\n",
      "Found entries for 4824 sensor readings.\n",
      "[84, 102, 147, 148, 188, 190, 214, 212, 244, 252, 276, 284, 301, 304, 309, 322, 62, 72, 74, 83, 105, 114, 116, 117, 119, 125, 136, 135, 144, 145, 150, 153, 156, 158, 160, 159, 167, 179, 205, 208, 215, 225, 227, 234, 249, 248, 250, 251, 253, 256, 267, 269, 275, 278, 279, 286, 292, 294, 295, 310, 311, 328, 319, 313, 323, 320, 47, 59, 67, 70, 75, 71, 77, 80, 91, 94, 100, 106, 118, 121, 128, 137, 141, 143, 149, 165, 157, 162, 189, 193, 194, 197, 213, 216, 221, 209, 226, 237, 239, 238, 241, 257, 258, 262, 272, 274, 285, 289, 288, 300, 302, 317, 321, 332, 64, 73, 78, 76, 85, 93, 98, 97, 122, 123, 124, 139, 140, 180, 177, 182, 201, 218, 240, 255, 265, 280, 282, 287, 296, 334, 333, 61, 63, 65, 68, 81, 86, 82, 89, 120, 126, 151, 155, 161, 178, 183, 266, 259, 281, 283, 291, 298, 305, 308, 315, 88, 90, 101, 107, 169, 163, 175, 184, 186, 202, 203, 224, 231, 235, 260, 268, 277, 293, 303, 299, 329, 331, 92, 96, 99, 133, 134, 138, 146, 152, 154, 164, 166, 168, 174, 176, 185, 187, 192, 195, 199, 200, 206, 210, 211, 222, 229, 232, 230, 243, 245, 247, 261, 264, 263, 270, 273, 290, 306, 307, 326, 327, 330, 66, 69, 79, 109, 110, 115, 129, 113, 170, 173, 181, 191, 207, 233, 236, 242, 246, 254, 316, 318, 325, 335]\n",
      "help_df: \n",
      "                              0           1           2           3  \\\n",
      "time                                                                  \n",
      "2017-01-31 13:30:00  298.359195   77.260190  726.864465  257.647887   \n",
      "2017-01-31 14:00:00  700.845476  191.145125   67.872839  751.989266   \n",
      "2017-01-31 14:30:00  612.714886   93.454274   66.350975  710.682885   \n",
      "2017-01-31 15:00:00  603.421117  235.770011   67.749444  940.372549   \n",
      "2017-01-31 15:30:00  604.641819  253.261651   67.623817  938.700787   \n",
      "\n",
      "                              4           5           6            7  \\\n",
      "time                                                                   \n",
      "2017-01-31 13:30:00  122.053551  444.639244  137.125000   184.508206   \n",
      "2017-01-31 14:00:00  273.087070  126.686176  190.357063   116.639201   \n",
      "2017-01-31 14:30:00  290.208414   86.266120  171.752503   116.548204   \n",
      "2017-01-31 15:00:00  285.143413   58.564273  377.484697  1591.257808   \n",
      "2017-01-31 15:30:00  283.852765   56.885000  132.697714  1223.271234   \n",
      "\n",
      "                              8           9  \n",
      "time                                         \n",
      "2017-01-31 13:30:00  139.632107  105.374770  \n",
      "2017-01-31 14:00:00  160.222097  621.844627  \n",
      "2017-01-31 14:30:00  164.417743  317.271791  \n",
      "2017-01-31 15:00:00  200.885246  307.914008  \n",
      "2017-01-31 15:30:00  197.972927  266.101238  \n"
     ]
    }
   ],
   "source": [
    "homeList = home_list0 + home_list1 + home_list2 + home_list3 + home_list4 + home_list5 + home_list6 + home_list7\n",
    "name = \"all_houses\"\n",
    "featParse = featureParser(homeList, name)"
   ]
  },
  {
   "cell_type": "code",
   "execution_count": 110,
   "id": "b1649e80",
   "metadata": {},
   "outputs": [
    {
     "data": {
      "text/plain": [
       "<AxesSubplot:xlabel='time'>"
      ]
     },
     "execution_count": 110,
     "metadata": {},
     "output_type": "execute_result"
    },
    {
     "data": {
      "image/png": "[encoded data removed]",
      "text/plain": [
       "<Figure size 432x288 with 1 Axes>"
      ]
     },
     "metadata": {
      "needs_background": "light"
     },
     "output_type": "display_data"
    }
   ],
   "source": [
    "df = featParse.homeData\n",
    "df = df.sort_values('time')\n",
    "#df['avg'].interpolate(limit=1, inplace=True, limit_direction='both', limit_area='inside')\n",
    "df.avg.plot()"
   ]
  },
  {
   "cell_type": "code",
   "execution_count": 111,
   "id": "6c7fb3a5",
   "metadata": {},
   "outputs": [],
   "source": [
    "df.loc[df.number<10, ['avg']] = np.nan\n",
    "start_idx = df.avg.first_valid_index()\n",
    "end_idx = df.avg.last_valid_index()\n",
    "if start_idx is not None:\n",
    "    df = df[start_idx:]\n",
    "if end_idx is not None:\n",
    "    df = df[:end_idx]"
   ]
  },
  {
   "cell_type": "code",
   "execution_count": 112,
   "id": "5a131cad",
   "metadata": {},
   "outputs": [
    {
     "data": {
      "text/plain": [
       "meantemp           79\n",
       "number              0\n",
       "avg              1235\n",
       "max_val          1146\n",
       "hour                0\n",
       "month               0\n",
       "weekend             0\n",
       "business hour       0\n",
       "daylight            0\n",
       "season              0\n",
       "qtr                 0\n",
       "day                 0\n",
       "dtype: int64"
      ]
     },
     "execution_count": 112,
     "metadata": {},
     "output_type": "execute_result"
    }
   ],
   "source": [
    "df.isna().sum()"
   ]
  },
  {
   "cell_type": "code",
   "execution_count": 103,
   "id": "a4ba0e8b",
   "metadata": {},
   "outputs": [
    {
     "data": {
      "text/plain": [
       "<AxesSubplot:xlabel='time'>"
      ]
     },
     "execution_count": 103,
     "metadata": {},
     "output_type": "execute_result"
    },
    {
     "data": {
      "image/png": "[encoded data removed]",
      "text/plain": [
       "<Figure size 432x288 with 1 Axes>"
      ]
     },
     "metadata": {
      "needs_background": "light"
     },
     "output_type": "display_data"
    }
   ],
   "source": [
    "df.avg.plot()"
   ]
  },
  {
   "cell_type": "code",
   "execution_count": null,
   "id": "6e577d82",
   "metadata": {},
   "outputs": [],
   "source": [
    "#filepath = 'C:\\Users\\Alex\\OneDrive\\Desktop\\Universitate\\Anul 4\\MInf\\implementation\\MInf-Project\\generated_data'\n",
    "filename = \"flat_3 or more people_After 1900.zip\"\n",
    "df_created = pd.read_csv('..\\generated_data\\\\' + filename)\n",
    "df_created.set_index('time')"
   ]
  },
  {
   "cell_type": "code",
   "execution_count": null,
   "id": "975b05df",
   "metadata": {},
   "outputs": [],
   "source": [
    "df_created."
   ]
  },
  {
   "cell_type": "code",
   "execution_count": null,
   "id": "b3d0fa9c",
   "metadata": {},
   "outputs": [],
   "source": [
    "hl = [102, 147, 148, 188, 190, 214, 212, 244, 252, 276, 284, 301, 304, 309, 322]\n",
    "for h in hl:\n",
    "    home_data = ideal.get(homeid = h, category = 'electric-mains')\n",
    "    ds = home_data[0]['readings']\n",
    "    print(ds.head(5))"
   ]
  },
  {
   "cell_type": "code",
   "execution_count": null,
   "id": "4afcd30e",
   "metadata": {},
   "outputs": [],
   "source": [
    "set_twilight_dict = {\n",
    "            'January': datetime.time(hour=17, minute=0),\n",
    "            'February': datetime.time(hour=18, minute=0),\n",
    "            'March': datetime.time(hour=19, minute=0),\n",
    "            'April': datetime.time(hour=21, minute=0),\n",
    "            'May': datetime.time(hour=22, minute=0),\n",
    "            'June': datetime.time(hour=23, minute=0),\n",
    "            'July': datetime.time(hour=22, minute=45),\n",
    "            'August': datetime.time(hour=21, minute=30),\n",
    "            'September': datetime.time(hour=20, minute=0),\n",
    "            'October': datetime.time(hour=18, minute=45),\n",
    "            'November': datetime.time(hour=16, minute=50),\n",
    "            'December': datetime.time(hour=16, minute=0)\n",
    "        }\n",
    "sunrise_dict = {\n",
    "            'January': datetime.time(hour=8, minute=30),\n",
    "            'February': datetime.time(hour=7, minute=40),\n",
    "            'March': datetime.time(hour=6, minute=30),\n",
    "            'April': datetime.time(hour=6, minute=0),\n",
    "            'May': datetime.time(hour=5, minute=0),\n",
    "            'June': datetime.time(hour=4, minute=26),\n",
    "            'July': datetime.time(hour=4, minute=45),\n",
    "            'August': datetime.time(hour=5, minute=45),\n",
    "            'September': datetime.time(hour=6, minute=45),\n",
    "            'October': datetime.time(hour=7, minute=40),\n",
    "            'November': datetime.time(hour=7, minute=50),\n",
    "            'December': datetime.time(hour=8, minute=40)\n",
    "        }\n",
    "weatherDF = pd.read_csv(folder_path + '\\weatherreading.csv.gz')\n",
    "metaweatherDF = meta_ideal._metafile('weatherfeed')['weatherfeed']\n",
    "metahomes = meta_ideal._metafile('home')['home']\n",
    "\n",
    "\n",
    "home_list = [84, 102]\n",
    "home_data = ideal.get(homeid = home_list[0], category = 'electric-mains')\n",
    "\n",
    "loc = metahomes[metahomes.homeid==home_list[0]].get('location').item()\n",
    "feedid = metaweatherDF[(metaweatherDF.locationid == loc) & (metaweatherDF.weather_type=='temperature')].get('feedid').item()\n",
    "allWeather = weatherDF[weatherDF.feedid == feedid]\n",
    "allWeather['time'] = pd.to_datetime(allWeather['time']).dt.round('30min')\n",
    "allWeather = allWeather.astype({'value':int})\n",
    "allWeather.drop(columns = ['feedid'], inplace = True)\n",
    "allWeather = allWeather.set_index('time').resample('30T').mean()\n",
    "allWeather.reset_index(inplace = True)\n",
    "strn = 'value_' + str(0)\n",
    "allWeather.rename(columns={'value':strn}, inplace = True)\n",
    "#allWeather.set_index('time')\n",
    "\n",
    "ds = home_data[0]['readings']\n",
    "df_resample = ds.resample('30T').mean()\n",
    "df_count = ds.resample('30T').count()\n",
    "df_resample.loc[df_count < 900] = np.nan\n",
    "df_all = df_resample.to_frame()\n",
    "\n",
    "name = 'electric-combined_'+str(0)\n",
    "df_all.rename(columns={'electric-combined':name}, inplace = True)\n",
    "df_all.reset_index(inplace = True)\n",
    "\n",
    "for idx,home_id in enumerate(home_list[1:], start=1):\n",
    "    home_data = ideal.get(homeid = home_id, category = 'electric-mains')\n",
    "    \n",
    "    loc = metahomes[metahomes.homeid==home_id].get('location').item()\n",
    "    feedid = metaweatherDF[(metaweatherDF.locationid == loc) & (metaweatherDF.weather_type=='temperature')].get('feedid').item()\n",
    "    weatherInfo = weatherDF[weatherDF.feedid == feedid]\n",
    "    weatherInfo['time'] = pd.to_datetime(weatherInfo['time']).dt.round('30min')\n",
    "    weatherInfo = weatherInfo.astype({'value':int})\n",
    "    weatherInfo.drop(columns = ['feedid'], inplace = True)\n",
    "    weatherInfo = weatherInfo.set_index('time').resample('30T').mean()\n",
    "    weatherInfo.reset_index(inplace = True)\n",
    "    strn = 'value_' + str(idx)\n",
    "    weatherInfo.rename(columns={'value':strn}, inplace = True)\n",
    "    #weatherInfo.set_index('time')\n",
    "    allWeather = pd.merge(allWeather, weatherInfo, how='outer', left_on = 'time', right_on = 'time')\n",
    "    \n",
    "    ds = home_data[0]['readings']\n",
    "    df_resample = ds.resample('30T').mean()\n",
    "    df_count = ds.resample('30T').count()\n",
    "    df_resample.loc[df_count < 900] = np.nan\n",
    "    df = df_resample.to_frame()\n",
    "    \n",
    "    name = 'electric-combined_'+str(idx)\n",
    "    df.rename(columns={'electric-combined':name}, inplace = True)\n",
    "    df.reset_index(inplace = True)\n",
    "    df_all = pd.merge(df_all, df, how='outer', left_on = 'time', right_on = 'time')\n",
    "\n",
    "\n",
    "df_all.set_index('time', inplace = True)"
   ]
  },
  {
   "cell_type": "code",
   "execution_count": null,
   "id": "2758d72f",
   "metadata": {},
   "outputs": [],
   "source": [
    "df_all"
   ]
  },
  {
   "cell_type": "code",
   "execution_count": null,
   "id": "2528ccd1",
   "metadata": {},
   "outputs": [],
   "source": [
    "allWeather['value'] = allWeather.mean(axis=1).round()\n",
    "allWeather['2017-01-31 13:30:00':'2018-06-12 07:30:00']"
   ]
  },
  {
   "cell_type": "code",
   "execution_count": null,
   "id": "e80622de",
   "metadata": {},
   "outputs": [],
   "source": [
    "allWeather.reset_index(inplace = True)\n",
    "df = pd.DataFrame(index = df_all.index)\n",
    "\n",
    "df.reset_index(inplace=True)\n",
    "allWeather.set_index('time', inplace = True)\n",
    "meanWeather = pd.DataFrame(index = allWeather.index)\n",
    "meanWeather['meantemp'] = allWeather.mean(axis=1).round()\n",
    "meanWeather.reset_index(inplace = True)\n",
    "df = pd.merge(df, meanWeather, how='left', left_on = 'time', right_on = 'time')\n",
    "print(df)"
   ]
  },
  {
   "cell_type": "code",
   "execution_count": null,
   "id": "7d5d1ae2",
   "metadata": {},
   "outputs": [],
   "source": [
    "allWeather.reset_index(inplace = True)\n",
    "df = pd.DataFrame(index = df_all.index)\n",
    "\n",
    "df.reset_index(inplace=True)\n",
    "allWeather.set_index('time', inplace = True)\n",
    "meanWeather = pd.DataFrame(index = allWeather.index)\n",
    "meanWeather['meantemp'] = allWeather.mean(axis=1).round()\n",
    "meanWeather.reset_index(inplace = True)\n",
    "df = pd.merge(df, meanWeather, how='left', left_on = 'time', right_on = 'time')\n",
    "df.set_index('time', inplace = True)\n",
    "\n",
    "df['avg'] = df_all.mean(axis=1)\n",
    "#df['std'] = df_all.std(axis=1)\n",
    "df['avg'].interpolate(\"linear\", inplace=True)\n",
    "df['month'] = df.index.month\n",
    "df['monthname'] = df.index.month_name()\n",
    "df['year'] = df.index.year\n",
    "df['weekend'] = df.index.weekday>4\n",
    "df['weekend'] = df['weekend'].astype(int) \n",
    "df['sunrise'] = df['monthname'].map(sunrise_dict)\n",
    "df['twilight'] = df['monthname'].map(set_twilight_dict)\n",
    "df['daysun'] = df.index.time >= df.sunrise\n",
    "df['daytwi'] = df.index.time <= df.twilight\n",
    "df['daylight'] = df['daysun'] & df['daytwi']\n",
    "df['daylight'] = df['daylight'].astype(int)\n",
    "df.drop(columns = ['monthname', 'sunrise', 'twilight','daysun','daytwi'], inplace = True)\n",
    "df"
   ]
  },
  {
   "cell_type": "code",
   "execution_count": null,
   "id": "8ea92fda",
   "metadata": {},
   "outputs": [],
   "source": []
  },
  {
   "cell_type": "code",
   "execution_count": null,
   "id": "50f7499c",
   "metadata": {},
   "outputs": [],
   "source": [
    "weatherDF = pd.read_csv(folder_path + '\\weatherreading.csv.gz')"
   ]
  },
  {
   "cell_type": "code",
   "execution_count": null,
   "id": "566cd9bd",
   "metadata": {
    "scrolled": true
   },
   "outputs": [],
   "source": [
    "weatherDF"
   ]
  },
  {
   "cell_type": "code",
   "execution_count": null,
   "id": "afb7f0c9",
   "metadata": {},
   "outputs": [],
   "source": [
    "metaweatherDF = pd.read_csv(meta_folder_path + '\\weatherfeed.csv')"
   ]
  },
  {
   "cell_type": "code",
   "execution_count": null,
   "id": "4cc65029",
   "metadata": {},
   "outputs": [],
   "source": [
    "metaweatherDF"
   ]
  },
  {
   "cell_type": "code",
   "execution_count": null,
   "id": "c318f07c",
   "metadata": {},
   "outputs": [],
   "source": [
    "#Edinburgh\n",
    "weatherDF[weatherDF.feedid == 1]  #temperature"
   ]
  },
  {
   "cell_type": "code",
   "execution_count": null,
   "id": "f057bebe",
   "metadata": {},
   "outputs": [],
   "source": [
    "\n",
    "#westLothian\n",
    "weatherDF[weatherDF.feedid == 16]  #temperature"
   ]
  },
  {
   "cell_type": "code",
   "execution_count": null,
   "id": "7cfb85b9",
   "metadata": {},
   "outputs": [],
   "source": [
    "#Midlothian\n",
    "weatherDF[weatherDF.feedid == 21]  #temperature"
   ]
  },
  {
   "cell_type": "code",
   "execution_count": null,
   "id": "8ae306e1",
   "metadata": {},
   "outputs": [],
   "source": [
    "\n",
    "#eastLothian\n",
    "weatherDF[weatherDF.feedid == 26]  #temperature"
   ]
  },
  {
   "cell_type": "code",
   "execution_count": null,
   "id": "790803bc",
   "metadata": {},
   "outputs": [],
   "source": [
    "\n",
    "#Fife\n",
    "weatherDF[weatherDF.feedid == 31]  #temperature"
   ]
  },
  {
   "cell_type": "code",
   "execution_count": null,
   "id": "3ff7021a",
   "metadata": {},
   "outputs": [],
   "source": [
    "mean([1,2,3,4,5,6,7,8][:9])"
   ]
  },
  {
   "cell_type": "code",
   "execution_count": null,
   "id": "6e58440e",
   "metadata": {},
   "outputs": [],
   "source": [
    "def mean(l):\n",
    "    return l.sum() / len(l)"
   ]
  },
  {
   "cell_type": "code",
   "execution_count": null,
   "id": "9ce05100",
   "metadata": {},
   "outputs": [],
   "source": []
  }
 ],
 "metadata": {
  "kernelspec": {
   "display_name": "Python [conda env:pdiot] *",
   "language": "python",
   "name": "conda-env-pdiot-py"
  },
  "language_info": {
   "codemirror_mode": {
    "name": "ipython",
    "version": 3
   },
   "file_extension": ".py",
   "mimetype": "text/x-python",
   "name": "python",
   "nbconvert_exporter": "python",
   "pygments_lexer": "ipython3",
   "version": "3.7.11"
  }
 },
 "nbformat": 4,
 "nbformat_minor": 5
}
