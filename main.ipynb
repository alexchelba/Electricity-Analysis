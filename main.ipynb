{
 "cells": [
  {
   "cell_type": "code",
   "execution_count": 2,
   "id": "e596c23a",
   "metadata": {},
   "outputs": [],
   "source": [
    "import pandas as pd\n",
    "import numpy as np\n",
    "import os\n",
    "import matplotlib.pyplot as plt\n",
    "import math\n",
    "import sys\n",
    "from utils.home_features_parse import featureParser\n",
    "from utils.home_categories_parse import categoriesParser\n",
    "from ARIMA.model import arimaModel\n",
    "from GP.model import gpModel"
   ]
  },
  {
   "cell_type": "code",
   "execution_count": 3,
   "id": "135c44e8",
   "metadata": {},
   "outputs": [],
   "source": [
    "def processData(htype, nrppl, buildEra):\n",
    "    catParse = categoriesParser(htype = htype, nrppl = nrppl, buildEra = buildEra)\n",
    "    lst = catParse.getList()\n",
    "    print(lst)\n",
    "    name = htype + \"_\" + nrppl + \"_\" + buildEra\n",
    "    featParse = featureParser([lst[0]], name)\n",
    "    return featParse.filepath"
   ]
  },
  {
   "cell_type": "code",
   "execution_count": 4,
   "id": "8df3fbd0",
   "metadata": {},
   "outputs": [],
   "source": [
    "def applyModel(model, datapath):\n",
    "    if model == \"ARIMA\":\n",
    "        m = arimaModel(datapath)\n",
    "    elif model == \"Gaussian Process\":\n",
    "        m = gpModel(datapath)\n",
    "    else:\n",
    "        print(\"Model not recognised.\")"
   ]
  },
  {
   "cell_type": "code",
   "execution_count": 5,
   "id": "f42e7e1e",
   "metadata": {},
   "outputs": [],
   "source": [
    "def main():\n",
    "    htype = \"flat\"\n",
    "    nrppl = \"3 or more people\"\n",
    "    buildEra = \"Before 1900\"\n",
    "    model = \"ARIMA\"\n",
    "    print(htype)\n",
    "    datapath = processData(htype, nrppl, buildEra)\n",
    "    applyModel(model, datapath)\n",
    "    print(datapath)"
   ]
  },
  {
   "cell_type": "code",
   "execution_count": 6,
   "id": "706d4321",
   "metadata": {},
   "outputs": [
    {
     "name": "stdout",
     "output_type": "stream",
     "text": [
      "flat\n",
      "[64, 73, 78, 76, 85, 93, 98, 97, 122, 123, 124, 139, 140, 180, 177, 182, 201, 218, 240, 255, 265, 280, 282, 287, 296, 334, 333]\n",
      "Found entries for 1592 sensor readings.\n",
      "Found entries for 4824 sensor readings.\n",
      "C:\\Users\\Alex\\OneDrive\\Desktop\\Universitate\\Anul 4\\MInf\\implementation\\MInf-Project\\generated_data\\flat_3 or more people_Before 1900.zip\n"
     ]
    }
   ],
   "source": [
    "main()"
   ]
  },
  {
   "cell_type": "code",
   "execution_count": null,
   "id": "3ebc0bb7",
   "metadata": {},
   "outputs": [],
   "source": []
  }
 ],
 "metadata": {
  "kernelspec": {
   "display_name": "Python [conda env:pdiot] *",
   "language": "python",
   "name": "conda-env-pdiot-py"
  },
  "language_info": {
   "codemirror_mode": {
    "name": "ipython",
    "version": 3
   },
   "file_extension": ".py",
   "mimetype": "text/x-python",
   "name": "python",
   "nbconvert_exporter": "python",
   "pygments_lexer": "ipython3",
   "version": "3.7.11"
  }
 },
 "nbformat": 4,
 "nbformat_minor": 5
}
