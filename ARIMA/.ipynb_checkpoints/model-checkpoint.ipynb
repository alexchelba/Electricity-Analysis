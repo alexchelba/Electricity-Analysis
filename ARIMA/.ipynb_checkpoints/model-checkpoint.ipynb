{
 "cells": [
  {
   "cell_type": "code",
   "execution_count": 1,
   "id": "aeb073a2",
   "metadata": {},
   "outputs": [],
   "source": [
    "from  scipy.stats import skew, kurtosis, shapiro\n",
    "import seaborn as sns\n",
    "from tsmoothie.smoother import *"
   ]
  },
  {
   "cell_type": "code",
   "execution_count": 2,
   "id": "ea3c6b24",
   "metadata": {},
   "outputs": [],
   "source": [
    "import statsmodels\n",
    "import statsmodels.api as sm\n",
    "from statsmodels.tsa.stattools import coint, adfuller\n",
    "from sklearn.metrics import mean_absolute_error, mean_squared_error"
   ]
  },
  {
   "cell_type": "code",
   "execution_count": 3,
   "id": "a7903be3",
   "metadata": {},
   "outputs": [],
   "source": [
    "from pmdarima import auto_arima\n",
    "from statsmodels.tsa.seasonal import seasonal_decompose\n",
    "import missingno as msno\n",
    "import plotly.express as px\n",
    "import plotly.graph_objects as go\n",
    "import matplotlib.dates as mdates\n",
    "import scipy.stats\n",
    "import pylab\n",
    "from dateutil.parser import parse\n",
    "from sklearn.decomposition import PCA\n",
    "from sklearn.preprocessing import LabelEncoder, StandardScaler, MinMaxScaler"
   ]
  },
  {
   "cell_type": "code",
   "execution_count": 4,
   "id": "c9c933ed",
   "metadata": {},
   "outputs": [],
   "source": [
    "import pandas as pd\n",
    "import numpy as np\n",
    "import os\n",
    "import matplotlib.pyplot as plt\n",
    "import math\n",
    "import sys\n",
    "import warnings\n",
    "sys.path.insert(1, '../')\n",
    "from API.IdealDataInterface import IdealDataInterface"
   ]
  },
  {
   "cell_type": "code",
   "execution_count": 53,
   "id": "274bcd3c",
   "metadata": {},
   "outputs": [],
   "source": [
    "dataFile = \"../generated_data2/flat_3 or more people_before 1900.zip\"\n",
    "df = pd.read_csv(dataFile)"
   ]
  },
  {
   "cell_type": "code",
   "execution_count": 54,
   "id": "eb29ab10",
   "metadata": {
    "scrolled": true
   },
   "outputs": [],
   "source": [
    "df['time'] = pd.to_datetime(df['time'])\n",
    "df = df.sort_values('time')\n",
    "df = df.set_index('time')"
   ]
  },
  {
   "cell_type": "code",
   "execution_count": 55,
   "id": "1d0d2ff2",
   "metadata": {
    "scrolled": true
   },
   "outputs": [
    {
     "data": {
      "text/plain": [
       "<AxesSubplot:xlabel='time'>"
      ]
     },
     "execution_count": 55,
     "metadata": {},
     "output_type": "execute_result"
    },
    {
     "data": {
      "image/png": "[encoded data removed]",
      "text/plain": [
       "<Figure size 432x288 with 1 Axes>"
      ]
     },
     "metadata": {
      "needs_background": "light"
     },
     "output_type": "display_data"
    }
   ],
   "source": [
    "df.avg.plot()"
   ]
  },
  {
   "cell_type": "code",
   "execution_count": 56,
   "id": "afee2c6a",
   "metadata": {},
   "outputs": [
    {
     "data": {
      "text/html": [
       "<div>\n",
       "<style scoped>\n",
       "    .dataframe tbody tr th:only-of-type {\n",
       "        vertical-align: middle;\n",
       "    }\n",
       "\n",
       "    .dataframe tbody tr th {\n",
       "        vertical-align: top;\n",
       "    }\n",
       "\n",
       "    .dataframe thead th {\n",
       "        text-align: right;\n",
       "    }\n",
       "</style>\n",
       "<table border=\"1\" class=\"dataframe\">\n",
       "  <thead>\n",
       "    <tr style=\"text-align: right;\">\n",
       "      <th></th>\n",
       "      <th>avg</th>\n",
       "      <th>hour</th>\n",
       "      <th>month</th>\n",
       "      <th>weekend</th>\n",
       "      <th>business hour</th>\n",
       "      <th>daylight</th>\n",
       "      <th>season</th>\n",
       "      <th>qtr</th>\n",
       "      <th>day</th>\n",
       "      <th>movave_3</th>\n",
       "      <th>movstd_3</th>\n",
       "      <th>movave_7</th>\n",
       "      <th>movstd_7</th>\n",
       "      <th>movave_30</th>\n",
       "      <th>movstd_30</th>\n",
       "      <th>q10</th>\n",
       "      <th>q50</th>\n",
       "      <th>q90</th>\n",
       "    </tr>\n",
       "    <tr>\n",
       "      <th>time</th>\n",
       "      <th></th>\n",
       "      <th></th>\n",
       "      <th></th>\n",
       "      <th></th>\n",
       "      <th></th>\n",
       "      <th></th>\n",
       "      <th></th>\n",
       "      <th></th>\n",
       "      <th></th>\n",
       "      <th></th>\n",
       "      <th></th>\n",
       "      <th></th>\n",
       "      <th></th>\n",
       "      <th></th>\n",
       "      <th></th>\n",
       "      <th></th>\n",
       "      <th></th>\n",
       "      <th></th>\n",
       "    </tr>\n",
       "  </thead>\n",
       "  <tbody>\n",
       "    <tr>\n",
       "      <th>2017-02-02 08:30:00</th>\n",
       "      <td>254.012413</td>\n",
       "      <td>8</td>\n",
       "      <td>2</td>\n",
       "      <td>0</td>\n",
       "      <td>0</td>\n",
       "      <td>1</td>\n",
       "      <td>4</td>\n",
       "      <td>1</td>\n",
       "      <td>3</td>\n",
       "      <td>NaN</td>\n",
       "      <td>NaN</td>\n",
       "      <td>NaN</td>\n",
       "      <td>NaN</td>\n",
       "      <td>NaN</td>\n",
       "      <td>NaN</td>\n",
       "      <td>NaN</td>\n",
       "      <td>NaN</td>\n",
       "      <td>NaN</td>\n",
       "    </tr>\n",
       "    <tr>\n",
       "      <th>2017-02-02 09:00:00</th>\n",
       "      <td>171.794564</td>\n",
       "      <td>9</td>\n",
       "      <td>2</td>\n",
       "      <td>0</td>\n",
       "      <td>1</td>\n",
       "      <td>1</td>\n",
       "      <td>4</td>\n",
       "      <td>1</td>\n",
       "      <td>3</td>\n",
       "      <td>NaN</td>\n",
       "      <td>NaN</td>\n",
       "      <td>NaN</td>\n",
       "      <td>NaN</td>\n",
       "      <td>NaN</td>\n",
       "      <td>NaN</td>\n",
       "      <td>NaN</td>\n",
       "      <td>NaN</td>\n",
       "      <td>NaN</td>\n",
       "    </tr>\n",
       "    <tr>\n",
       "      <th>2017-02-02 09:30:00</th>\n",
       "      <td>176.742164</td>\n",
       "      <td>9</td>\n",
       "      <td>2</td>\n",
       "      <td>0</td>\n",
       "      <td>1</td>\n",
       "      <td>1</td>\n",
       "      <td>4</td>\n",
       "      <td>1</td>\n",
       "      <td>3</td>\n",
       "      <td>NaN</td>\n",
       "      <td>NaN</td>\n",
       "      <td>NaN</td>\n",
       "      <td>NaN</td>\n",
       "      <td>NaN</td>\n",
       "      <td>NaN</td>\n",
       "      <td>NaN</td>\n",
       "      <td>NaN</td>\n",
       "      <td>NaN</td>\n",
       "    </tr>\n",
       "    <tr>\n",
       "      <th>2017-02-02 10:00:00</th>\n",
       "      <td>190.365485</td>\n",
       "      <td>10</td>\n",
       "      <td>2</td>\n",
       "      <td>0</td>\n",
       "      <td>1</td>\n",
       "      <td>1</td>\n",
       "      <td>4</td>\n",
       "      <td>1</td>\n",
       "      <td>3</td>\n",
       "      <td>NaN</td>\n",
       "      <td>NaN</td>\n",
       "      <td>NaN</td>\n",
       "      <td>NaN</td>\n",
       "      <td>NaN</td>\n",
       "      <td>NaN</td>\n",
       "      <td>NaN</td>\n",
       "      <td>NaN</td>\n",
       "      <td>NaN</td>\n",
       "    </tr>\n",
       "    <tr>\n",
       "      <th>2017-02-02 10:30:00</th>\n",
       "      <td>297.332767</td>\n",
       "      <td>10</td>\n",
       "      <td>2</td>\n",
       "      <td>0</td>\n",
       "      <td>1</td>\n",
       "      <td>1</td>\n",
       "      <td>4</td>\n",
       "      <td>1</td>\n",
       "      <td>3</td>\n",
       "      <td>NaN</td>\n",
       "      <td>NaN</td>\n",
       "      <td>NaN</td>\n",
       "      <td>NaN</td>\n",
       "      <td>NaN</td>\n",
       "      <td>NaN</td>\n",
       "      <td>NaN</td>\n",
       "      <td>NaN</td>\n",
       "      <td>NaN</td>\n",
       "    </tr>\n",
       "    <tr>\n",
       "      <th>...</th>\n",
       "      <td>...</td>\n",
       "      <td>...</td>\n",
       "      <td>...</td>\n",
       "      <td>...</td>\n",
       "      <td>...</td>\n",
       "      <td>...</td>\n",
       "      <td>...</td>\n",
       "      <td>...</td>\n",
       "      <td>...</td>\n",
       "      <td>...</td>\n",
       "      <td>...</td>\n",
       "      <td>...</td>\n",
       "      <td>...</td>\n",
       "      <td>...</td>\n",
       "      <td>...</td>\n",
       "      <td>...</td>\n",
       "      <td>...</td>\n",
       "      <td>...</td>\n",
       "    </tr>\n",
       "    <tr>\n",
       "      <th>2018-06-30 21:30:00</th>\n",
       "      <td>268.865352</td>\n",
       "      <td>21</td>\n",
       "      <td>6</td>\n",
       "      <td>1</td>\n",
       "      <td>0</td>\n",
       "      <td>1</td>\n",
       "      <td>2</td>\n",
       "      <td>2</td>\n",
       "      <td>5</td>\n",
       "      <td>352.530890</td>\n",
       "      <td>157.384879</td>\n",
       "      <td>350.928894</td>\n",
       "      <td>166.007439</td>\n",
       "      <td>323.220116</td>\n",
       "      <td>159.553530</td>\n",
       "      <td>199.524083</td>\n",
       "      <td>312.035212</td>\n",
       "      <td>560.778775</td>\n",
       "    </tr>\n",
       "    <tr>\n",
       "      <th>2018-06-30 22:00:00</th>\n",
       "      <td>256.128687</td>\n",
       "      <td>22</td>\n",
       "      <td>6</td>\n",
       "      <td>1</td>\n",
       "      <td>0</td>\n",
       "      <td>1</td>\n",
       "      <td>2</td>\n",
       "      <td>2</td>\n",
       "      <td>5</td>\n",
       "      <td>350.768799</td>\n",
       "      <td>157.031037</td>\n",
       "      <td>350.945815</td>\n",
       "      <td>165.997455</td>\n",
       "      <td>323.178061</td>\n",
       "      <td>159.563233</td>\n",
       "      <td>199.524083</td>\n",
       "      <td>312.035212</td>\n",
       "      <td>560.778775</td>\n",
       "    </tr>\n",
       "    <tr>\n",
       "      <th>2018-06-30 22:30:00</th>\n",
       "      <td>229.072221</td>\n",
       "      <td>22</td>\n",
       "      <td>6</td>\n",
       "      <td>1</td>\n",
       "      <td>0</td>\n",
       "      <td>1</td>\n",
       "      <td>2</td>\n",
       "      <td>2</td>\n",
       "      <td>5</td>\n",
       "      <td>350.740109</td>\n",
       "      <td>157.053042</td>\n",
       "      <td>350.900435</td>\n",
       "      <td>166.028772</td>\n",
       "      <td>323.169082</td>\n",
       "      <td>159.568168</td>\n",
       "      <td>199.524083</td>\n",
       "      <td>312.035212</td>\n",
       "      <td>560.778775</td>\n",
       "    </tr>\n",
       "    <tr>\n",
       "      <th>2018-06-30 23:00:00</th>\n",
       "      <td>240.505790</td>\n",
       "      <td>23</td>\n",
       "      <td>6</td>\n",
       "      <td>1</td>\n",
       "      <td>0</td>\n",
       "      <td>1</td>\n",
       "      <td>2</td>\n",
       "      <td>2</td>\n",
       "      <td>5</td>\n",
       "      <td>351.122643</td>\n",
       "      <td>156.714278</td>\n",
       "      <td>350.890814</td>\n",
       "      <td>166.035094</td>\n",
       "      <td>323.206087</td>\n",
       "      <td>159.542796</td>\n",
       "      <td>199.524083</td>\n",
       "      <td>312.035212</td>\n",
       "      <td>560.778775</td>\n",
       "    </tr>\n",
       "    <tr>\n",
       "      <th>2018-06-30 23:30:00</th>\n",
       "      <td>238.724344</td>\n",
       "      <td>23</td>\n",
       "      <td>6</td>\n",
       "      <td>1</td>\n",
       "      <td>0</td>\n",
       "      <td>0</td>\n",
       "      <td>2</td>\n",
       "      <td>2</td>\n",
       "      <td>5</td>\n",
       "      <td>351.394633</td>\n",
       "      <td>156.483204</td>\n",
       "      <td>350.783131</td>\n",
       "      <td>166.096243</td>\n",
       "      <td>323.233000</td>\n",
       "      <td>159.525260</td>\n",
       "      <td>199.524083</td>\n",
       "      <td>312.035212</td>\n",
       "      <td>560.778775</td>\n",
       "    </tr>\n",
       "  </tbody>\n",
       "</table>\n",
       "<p>24655 rows × 18 columns</p>\n",
       "</div>"
      ],
      "text/plain": [
       "                            avg  hour  month  weekend  business hour  \\\n",
       "time                                                                   \n",
       "2017-02-02 08:30:00  254.012413     8      2        0              0   \n",
       "2017-02-02 09:00:00  171.794564     9      2        0              1   \n",
       "2017-02-02 09:30:00  176.742164     9      2        0              1   \n",
       "2017-02-02 10:00:00  190.365485    10      2        0              1   \n",
       "2017-02-02 10:30:00  297.332767    10      2        0              1   \n",
       "...                         ...   ...    ...      ...            ...   \n",
       "2018-06-30 21:30:00  268.865352    21      6        1              0   \n",
       "2018-06-30 22:00:00  256.128687    22      6        1              0   \n",
       "2018-06-30 22:30:00  229.072221    22      6        1              0   \n",
       "2018-06-30 23:00:00  240.505790    23      6        1              0   \n",
       "2018-06-30 23:30:00  238.724344    23      6        1              0   \n",
       "\n",
       "                     daylight  season  qtr  day    movave_3    movstd_3  \\\n",
       "time                                                                      \n",
       "2017-02-02 08:30:00         1       4    1    3         NaN         NaN   \n",
       "2017-02-02 09:00:00         1       4    1    3         NaN         NaN   \n",
       "2017-02-02 09:30:00         1       4    1    3         NaN         NaN   \n",
       "2017-02-02 10:00:00         1       4    1    3         NaN         NaN   \n",
       "2017-02-02 10:30:00         1       4    1    3         NaN         NaN   \n",
       "...                       ...     ...  ...  ...         ...         ...   \n",
       "2018-06-30 21:30:00         1       2    2    5  352.530890  157.384879   \n",
       "2018-06-30 22:00:00         1       2    2    5  350.768799  157.031037   \n",
       "2018-06-30 22:30:00         1       2    2    5  350.740109  157.053042   \n",
       "2018-06-30 23:00:00         1       2    2    5  351.122643  156.714278   \n",
       "2018-06-30 23:30:00         0       2    2    5  351.394633  156.483204   \n",
       "\n",
       "                       movave_7    movstd_7   movave_30   movstd_30  \\\n",
       "time                                                                  \n",
       "2017-02-02 08:30:00         NaN         NaN         NaN         NaN   \n",
       "2017-02-02 09:00:00         NaN         NaN         NaN         NaN   \n",
       "2017-02-02 09:30:00         NaN         NaN         NaN         NaN   \n",
       "2017-02-02 10:00:00         NaN         NaN         NaN         NaN   \n",
       "2017-02-02 10:30:00         NaN         NaN         NaN         NaN   \n",
       "...                         ...         ...         ...         ...   \n",
       "2018-06-30 21:30:00  350.928894  166.007439  323.220116  159.553530   \n",
       "2018-06-30 22:00:00  350.945815  165.997455  323.178061  159.563233   \n",
       "2018-06-30 22:30:00  350.900435  166.028772  323.169082  159.568168   \n",
       "2018-06-30 23:00:00  350.890814  166.035094  323.206087  159.542796   \n",
       "2018-06-30 23:30:00  350.783131  166.096243  323.233000  159.525260   \n",
       "\n",
       "                            q10         q50         q90  \n",
       "time                                                     \n",
       "2017-02-02 08:30:00         NaN         NaN         NaN  \n",
       "2017-02-02 09:00:00         NaN         NaN         NaN  \n",
       "2017-02-02 09:30:00         NaN         NaN         NaN  \n",
       "2017-02-02 10:00:00         NaN         NaN         NaN  \n",
       "2017-02-02 10:30:00         NaN         NaN         NaN  \n",
       "...                         ...         ...         ...  \n",
       "2018-06-30 21:30:00  199.524083  312.035212  560.778775  \n",
       "2018-06-30 22:00:00  199.524083  312.035212  560.778775  \n",
       "2018-06-30 22:30:00  199.524083  312.035212  560.778775  \n",
       "2018-06-30 23:00:00  199.524083  312.035212  560.778775  \n",
       "2018-06-30 23:30:00  199.524083  312.035212  560.778775  \n",
       "\n",
       "[24655 rows x 18 columns]"
      ]
     },
     "execution_count": 56,
     "metadata": {},
     "output_type": "execute_result"
    }
   ],
   "source": [
    "df"
   ]
  },
  {
   "cell_type": "code",
   "execution_count": 57,
   "id": "cd43ab02",
   "metadata": {},
   "outputs": [
    {
     "data": {
      "image/png": "[encoded data removed]",
      "text/plain": [
       "<Figure size 432x288 with 1 Axes>"
      ]
     },
     "metadata": {
      "needs_background": "light"
     },
     "output_type": "display_data"
    },
    {
     "name": "stderr",
     "output_type": "stream",
     "text": [
      "C:\\miniconda3\\envs\\pdiot\\lib\\site-packages\\statsmodels\\graphics\\tsaplots.py:348: FutureWarning: The default method 'yw' can produce PACF values outside of the [-1,1] interval. After 0.13, the default will change tounadjusted Yule-Walker ('ywm'). You can use this method now by setting method='ywm'.\n",
      "  warnings.warn(\n"
     ]
    },
    {
     "data": {
      "text/plain": [
       "<Figure size 432x288 with 0 Axes>"
      ]
     },
     "metadata": {},
     "output_type": "display_data"
    },
    {
     "data": {
      "image/png": "[encoded data removed]",
      "text/plain": [
       "<Figure size 432x288 with 1 Axes>"
      ]
     },
     "metadata": {
      "needs_background": "light"
     },
     "output_type": "display_data"
    },
    {
     "data": {
      "text/plain": [
       "<Figure size 432x288 with 0 Axes>"
      ]
     },
     "metadata": {},
     "output_type": "display_data"
    }
   ],
   "source": [
    "sm.graphics.tsa.plot_acf(df['avg'], lags=60,title='auto correlation of electricity consumption',zero=False)\n",
    "#plt.show()\n",
    "plt.xlabel(\"# of lags\")\n",
    "plt.show()\n",
    "plt.close()\n",
    "plt.cla()\n",
    "plt.clf()\n",
    "\n",
    "sm.graphics.tsa.plot_pacf(df['avg'], lags=60,title='partial auto correlation of electricity consumption',zero=False)\n",
    "#plt.show()\n",
    "plt.xlabel(\"# of lags\")\n",
    "plt.show()\n",
    "plt.close()\n",
    "plt.cla()\n",
    "plt.clf()"
   ]
  },
  {
   "cell_type": "code",
   "execution_count": 58,
   "id": "90d9ffaf",
   "metadata": {},
   "outputs": [],
   "source": [
    "from pmdarima.arima.utils import nsdiffs, ndiffs\n",
    "\n",
    "D = ndiffs(df.avg,\n",
    "           test = 'kpss',\n",
    "          max_d = 10)\n",
    "\n",
    "Ds = nsdiffs(df.avg,\n",
    "            m=48,  # commonly requires knowledge of dataset\n",
    "            max_D=12,\n",
    "            test='ocsb')  # -> 0"
   ]
  },
  {
   "cell_type": "code",
   "execution_count": 59,
   "id": "1034e180",
   "metadata": {},
   "outputs": [
    {
     "name": "stdout",
     "output_type": "stream",
     "text": [
      "1 0\n"
     ]
    },
    {
     "data": {
      "text/plain": [
       "24655"
      ]
     },
     "execution_count": 59,
     "metadata": {},
     "output_type": "execute_result"
    }
   ],
   "source": [
    "print(D, Ds)\n",
    "\n",
    "d_df = df.avg\n",
    "#d_df = d_df.diff()\n",
    "d_df = d_df.diff(48)\n",
    "\n",
    "d_df\n",
    "\n",
    "len(df)"
   ]
  },
  {
   "cell_type": "code",
   "execution_count": 60,
   "id": "f4fea3d0",
   "metadata": {},
   "outputs": [],
   "source": [
    "D = ndiffs(d_df[48:],\n",
    "           test = 'kpss',\n",
    "          max_d = 10)\n",
    "\n",
    "Ds = nsdiffs(d_df[48:],\n",
    "            m=48,  # commonly requires knowledge of dataset\n",
    "            max_D=12,\n",
    "            test='ocsb')  # -> 0"
   ]
  },
  {
   "cell_type": "code",
   "execution_count": 61,
   "id": "7780ed25",
   "metadata": {},
   "outputs": [
    {
     "data": {
      "image/png": "[encoded data removed]",
      "text/plain": [
       "<Figure size 432x288 with 1 Axes>"
      ]
     },
     "metadata": {
      "needs_background": "light"
     },
     "output_type": "display_data"
    },
    {
     "name": "stderr",
     "output_type": "stream",
     "text": [
      "C:\\miniconda3\\envs\\pdiot\\lib\\site-packages\\statsmodels\\graphics\\tsaplots.py:348: FutureWarning: The default method 'yw' can produce PACF values outside of the [-1,1] interval. After 0.13, the default will change tounadjusted Yule-Walker ('ywm'). You can use this method now by setting method='ywm'.\n",
      "  warnings.warn(\n"
     ]
    },
    {
     "data": {
      "text/plain": [
       "<Figure size 432x288 with 0 Axes>"
      ]
     },
     "metadata": {},
     "output_type": "display_data"
    },
    {
     "data": {
      "image/png": "[encoded data removed]",
      "text/plain": [
       "<Figure size 432x288 with 1 Axes>"
      ]
     },
     "metadata": {
      "needs_background": "light"
     },
     "output_type": "display_data"
    },
    {
     "data": {
      "text/plain": [
       "<Figure size 432x288 with 0 Axes>"
      ]
     },
     "metadata": {},
     "output_type": "display_data"
    }
   ],
   "source": [
    "sm.graphics.tsa.plot_acf(d_df[48:], lags=96,title='auto correlation of electricity consumption',zero=False)\n",
    "#plt.show()\n",
    "plt.xlabel(\"# of lags\")\n",
    "plt.show()\n",
    "plt.close()\n",
    "plt.cla()\n",
    "plt.clf()\n",
    "\n",
    "sm.graphics.tsa.plot_pacf(d_df[48:], lags=96,title='partial auto correlation of electricity consumption',zero=False)\n",
    "#plt.show()\n",
    "plt.xlabel(\"# of lags\")\n",
    "plt.show()\n",
    "plt.close()\n",
    "plt.cla()\n",
    "plt.clf()"
   ]
  },
  {
   "cell_type": "code",
   "execution_count": 34,
   "id": "ef96a01d",
   "metadata": {},
   "outputs": [
    {
     "data": {
      "text/plain": [
       "<AxesSubplot:xlabel='time'>"
      ]
     },
     "execution_count": 34,
     "metadata": {},
     "output_type": "execute_result"
    },
    {
     "data": {
      "image/png": "[encoded data removed]",
      "text/plain": [
       "<Figure size 432x288 with 1 Axes>"
      ]
     },
     "metadata": {
      "needs_background": "light"
     },
     "output_type": "display_data"
    }
   ],
   "source": [
    "d_df[48:].plot()"
   ]
  },
  {
   "cell_type": "code",
   "execution_count": 1,
   "id": "978cf66b",
   "metadata": {},
   "outputs": [],
   "source": [
    "# Data is standardized in order to allow application of models that are sensitive to scale, like neural networks or svm.\n",
    "# Remember that distribution shape is maintained, it only changes first and second momentum (mean and standard deviation)\n",
    "def normalize(df):\n",
    "    mean = df.avg.mean()\n",
    "    std = df.avg.std()\n",
    "    df[\"target\"] = df.avg.add(-mean).div(std)\n",
    "    sns.distplot(df[\"target\"])\n",
    "    plt.show()\n",
    "    return df"
   ]
  },
  {
   "cell_type": "code",
   "execution_count": null,
   "id": "73f3af75",
   "metadata": {},
   "outputs": [],
   "source": [
    "df_train = normalize(s_df[s_df.index < \"2018-04-01\"])\n",
    "df_valid = normalize(s_df[s_df.index >= \"2018-04-01\"])\n",
    "\n",
    "\n",
    "#exogenous_features = [\"hour\", \"season\", \"business hour\", \"meantemp\", \"daylight\", \"weekend\", \"month\", \"qtr\", \"q10\", \"q50\", \"q90\", \"movave_3\", \"movstd_3\", \"movave_7\", \"movstd_7\", \"movave_30\", \"movstd_30\", \"day\"]\n",
    "exogenous_features = set(s_df.columns.values) - set(['ix', 'avg'])\n",
    "exogenous_features = list(exogenous_features)"
   ]
  },
  {
   "cell_type": "code",
   "execution_count": null,
   "id": "40e152c6",
   "metadata": {},
   "outputs": [],
   "source": [
    "#X_train = df_train.drop(columns = ['avg'])\n",
    "#y_train = df_train['avg'].to_frame()\n",
    "\n",
    "#X_valid = df_valid.drop(columns = ['avg'])\n",
    "#y_valid = df_valid['avg'].to_frame()\n",
    "\n",
    "#y_train = y_train.reshape(-1, 1)\n",
    "#y_valid = y_valid.reshape(-1, 1)\n",
    "\n",
    "#scaler_X = MinMaxScaler(feature_range=(0, 1))\n",
    "#scaler_y = MinMaxScaler(feature_range=(0, 1))\n",
    "\n",
    "#scaler_X.fit(X_train)\n",
    "#scaler_y.fit(y_train)\n",
    "print(exogenous_features)"
   ]
  },
  {
   "cell_type": "code",
   "execution_count": null,
   "id": "23281e55",
   "metadata": {},
   "outputs": [],
   "source": [
    "#X_norm_train = pd.DataFrame(scaler_X.transform(X_train),index = X_train.index,columns = X_train.columns)\n",
    "#y_norm_train = pd.DataFrame(scaler_y.transform(y_train),index = y_train.index,columns = y_train.columns)\n",
    "\n",
    "#X_norm_valid = pd.DataFrame(scaler_X.transform(X_valid),index = X_valid.index,columns = X_valid.columns)\n",
    "#y_norm_valid = pd.DataFrame(scaler_y.transform(y_valid),index = y_valid.index,columns = y_valid.columns)"
   ]
  },
  {
   "cell_type": "code",
   "execution_count": null,
   "id": "e2b3f895",
   "metadata": {},
   "outputs": [],
   "source": [
    "#pca = PCA()\n",
    "#X_pca = pca.fit(X_norm_train)"
   ]
  },
  {
   "cell_type": "code",
   "execution_count": null,
   "id": "339bc7bd",
   "metadata": {},
   "outputs": [],
   "source": [
    "#num_components = len(pca.explained_variance_ratio_)\n",
    "#plt.figure(figsize=(10, 6))\n",
    "#plt.bar(np.arange(num_components), pca.explained_variance_ratio_)\n",
    "#plt.plot(np.cumsum(pca.explained_variance_ratio_))\n",
    "#plt.xlabel('Principal component')\n",
    "#plt.ylabel('Explained variance')\n",
    "#plt.show()"
   ]
  },
  {
   "cell_type": "code",
   "execution_count": null,
   "id": "18db2364",
   "metadata": {},
   "outputs": [],
   "source": [
    "#n_comp = 8\n",
    "#pca_feat = [f'pca_-{i}' for i in range(n_comp)]\n",
    "#pca = PCA(n_components=n_comp)\n",
    "#pca.fit(X_norm_train)\n",
    "#X_pca_train = pd.DataFrame(pca.fit_transform(X_norm_train), columns = pca_feat)\n",
    "#X_pca_valid = pd.DataFrame(pca.transform(X_norm_valid), columns = pca_feat)"
   ]
  },
  {
   "cell_type": "code",
   "execution_count": null,
   "id": "93aef8d1",
   "metadata": {},
   "outputs": [],
   "source": [
    "#y_norm_train.reset_index(drop = True, inplace = True)\n",
    "#y_norm_valid.reset_index(drop = True, inplace = True)"
   ]
  },
  {
   "cell_type": "code",
   "execution_count": null,
   "id": "7e692f24",
   "metadata": {},
   "outputs": [],
   "source": [
    "\n",
    "#X_train_f = pd.concat([X_pca_train, y_norm_train], axis=1)\n",
    "#X_valid_f = pd.concat([X_pca_valid, y_norm_valid], axis=1)"
   ]
  },
  {
   "cell_type": "code",
   "execution_count": null,
   "id": "fea6d80c",
   "metadata": {},
   "outputs": [],
   "source": [
    "#X_train_f.set_index(df_train.index, inplace = True)\n",
    "#X_valid_f.set_index(df_valid.index, inplace = True)"
   ]
  },
  {
   "cell_type": "code",
   "execution_count": null,
   "id": "3b849f16",
   "metadata": {},
   "outputs": [],
   "source": [
    "#X_train_f"
   ]
  },
  {
   "cell_type": "code",
   "execution_count": null,
   "id": "97165d67",
   "metadata": {
    "scrolled": false
   },
   "outputs": [],
   "source": [
    "model = auto_arima(df_train.target, exogenous=df_train[exogenous_features], trace=True, error_action=\"ignore\", suppress_warnings=True, seasonal = False, stationary = True)\n",
    "model.fit(df_train.target, exogenous=df_train[exogenous_features])\n",
    "\n",
    "forecast = model.predict(n_periods=len(df_valid), exogenous=df_valid[exogenous_features])\n",
    "df_valid[\"Forecast_ARIMAX\"] = forecast"
   ]
  },
  {
   "cell_type": "code",
   "execution_count": null,
   "id": "8ff223e5",
   "metadata": {},
   "outputs": [],
   "source": [
    "forecast, confint = model.predict(n_periods=len(df_valid), exogenous=df_valid[exogenous_features], return_conf_int=True)\n",
    "df_valid[\"Forecast_ARIMAX\"] = forecast"
   ]
  },
  {
   "cell_type": "code",
   "execution_count": null,
   "id": "67975b18",
   "metadata": {},
   "outputs": [],
   "source": [
    "cf= pd.DataFrame(confint, index = df_valid.index)\n",
    "cf"
   ]
  },
  {
   "cell_type": "code",
   "execution_count": null,
   "id": "28a0fdad",
   "metadata": {
    "scrolled": true
   },
   "outputs": [],
   "source": [
    "model.summary()"
   ]
  },
  {
   "cell_type": "code",
   "execution_count": null,
   "id": "0565c3e5",
   "metadata": {},
   "outputs": [],
   "source": [
    "#FF = pd.DataFrame(scaler_y.inverse_transform(X_valid_f['Forecast_ARIMAX'].to_frame()), index = X_valid_f.index)"
   ]
  },
  {
   "cell_type": "code",
   "execution_count": null,
   "id": "62aec9fc",
   "metadata": {},
   "outputs": [],
   "source": [
    "#FF"
   ]
  },
  {
   "cell_type": "code",
   "execution_count": null,
   "id": "ada7a59d",
   "metadata": {},
   "outputs": [],
   "source": [
    "m = df_valid['avg'].mean()\n",
    "std = df_valid['avg'].std()\n",
    "df_valid['forecast_normal'] = df_valid['Forecast_ARIMAX'] * std + m"
   ]
  },
  {
   "cell_type": "code",
   "execution_count": null,
   "id": "5be0377f",
   "metadata": {},
   "outputs": [],
   "source": [
    "df_valid[\"2018-03-01\":\"2018-03-14\"][[\"avg\", \"forecast_normal\"]].plot(figsize=(14, 7))\n",
    "\n",
    "fig, ax = plt.subplots(1, 1, figsize=(15, 5))\n",
    "ax.plot(df_valid[\"2018-03-01\":\"2018-03-14\"].target)\n",
    "ax.plot(df_valid[\"2018-03-01\":\"2018-03-14\"].Forecast_ARIMAX)\n",
    "ax.fill_between(df_valid[\"2018-03-01\":\"2018-03-14\"].index,\n",
    "                cf[\"2018-03-01\":\"2018-03-14\"][0],\n",
    "                cf[\"2018-03-01\":\"2018-03-14\"][1],color='grey',alpha=.3)"
   ]
  },
  {
   "cell_type": "code",
   "execution_count": null,
   "id": "5c225aee",
   "metadata": {},
   "outputs": [],
   "source": [
    "residuals=df_valid.avg-df_valid.forecast_normal"
   ]
  },
  {
   "cell_type": "code",
   "execution_count": null,
   "id": "e314d3ca",
   "metadata": {},
   "outputs": [],
   "source": [
    "dicky_fuller_test((residuals))"
   ]
  },
  {
   "cell_type": "code",
   "execution_count": null,
   "id": "aa8b8148",
   "metadata": {},
   "outputs": [],
   "source": [
    "residuals.plot()"
   ]
  },
  {
   "cell_type": "code",
   "execution_count": null,
   "id": "93dd8263",
   "metadata": {},
   "outputs": [],
   "source": [
    "print(\"RMSE of Auto ARIMAX:\", np.sqrt(mean_squared_error(df_valid.avg, df_valid.forecast_normal)))\n",
    "print(\"\\nMAE of Auto ARIMAX:\", mean_absolute_error(df_valid.avg, df_valid.forecast_normal))"
   ]
  },
  {
   "cell_type": "code",
   "execution_count": null,
   "id": "fa8f6b81",
   "metadata": {},
   "outputs": [],
   "source": [
    "model.plot_diagnostics(figsize=(15, 12))"
   ]
  },
  {
   "cell_type": "code",
   "execution_count": null,
   "id": "f6803985",
   "metadata": {},
   "outputs": [],
   "source": [
    "correlations = df_valid.drop(columns = ['avg', 'target', 'ix']).corr(method='pearson')\n",
    "print(correlations['Forecast_ARIMAX'].sort_values(ascending=False).to_string())\n"
   ]
  },
  {
   "cell_type": "code",
   "execution_count": 1,
   "id": "24b9506a",
   "metadata": {},
   "outputs": [],
   "source": [
    "from EDA import arimaModelHelper\n",
    "\n",
    "datapaths = [\n",
    "'../generated_data2/flat_2 or less people_before 1900.zip',\n",
    "'../generated_data2/flat_2 or less people_after 1900.zip',\n",
    "'../generated_data2/flat_3 or more people_after 1900.zip'\n",
    "#'../generated_data2/house_2 or less people_after 1965.zip',\n",
    "#'../generated_data2/flat_3 or more people_before 1900.zip',\n",
    "#'../generated_data2/house_2 or less people_before 1965.zip',\n",
    "#'../generated_data2/house_3 or more people_before 1965.zip',\n",
    "#'../generated_data2/house_3 or more people_after 1965.zip'\n",
    "]\n",
    "\n",
    "names = [\n",
    "'flat_2 or less people_before 1900',\n",
    "'flat_2 or less people_after 1900',\n",
    "'flat_3 or more people_after 1900',\n",
    "'house_2 or less people_after 1965',\n",
    "'flat_3 or more people_before 1900',\n",
    "'house_2 or less people_before 1965',\n",
    "'house_3 or more people_before 1965',\n",
    "'house_3 or more people_after 1965'\n",
    "]"
   ]
  },
  {
   "cell_type": "code",
   "execution_count": 2,
   "id": "669add8c",
   "metadata": {},
   "outputs": [
    {
     "name": "stdout",
     "output_type": "stream",
     "text": [
      "######### NAME: flat_2 or less people_after 1900\n",
      "Directory  EDA2_flat_2 or less people_after 1900  Created \n"
     ]
    },
    {
     "name": "stderr",
     "output_type": "stream",
     "text": [
      "C:\\miniconda3\\envs\\pdiot\\lib\\site-packages\\seaborn\\distributions.py:2619: FutureWarning: `distplot` is a deprecated function and will be removed in a future version. Please adapt your code to use either `displot` (a figure-level function with similar flexibility) or `histplot` (an axes-level function for histograms).\n",
      "  warnings.warn(msg, FutureWarning)\n"
     ]
    },
    {
     "name": "stdout",
     "output_type": "stream",
     "text": [
      "\n",
      "\n"
     ]
    },
    {
     "data": {
      "text/plain": [
       "<Figure size 432x288 with 0 Axes>"
      ]
     },
     "metadata": {},
     "output_type": "display_data"
    }
   ],
   "source": [
    "dp = datapaths[1]\n",
    "nm = names[1]\n",
    "print(\"######### NAME: \" + nm)\n",
    "init1 = arimaModelHelper(dp, nm)\n",
    "init1.main()\n",
    "print('\\n')"
   ]
  },
  {
   "cell_type": "code",
   "execution_count": null,
   "id": "94bdaccb",
   "metadata": {},
   "outputs": [],
   "source": []
  }
 ],
 "metadata": {
  "kernelspec": {
   "display_name": "Python 3 (ipykernel)",
   "language": "python",
   "name": "python3"
  },
  "language_info": {
   "codemirror_mode": {
    "name": "ipython",
    "version": 3
   },
   "file_extension": ".py",
   "mimetype": "text/x-python",
   "name": "python",
   "nbconvert_exporter": "python",
   "pygments_lexer": "ipython3",
   "version": "3.8.13"
  }
 },
 "nbformat": 4,
 "nbformat_minor": 5
}
